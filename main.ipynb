{
 "cells": [
  {
   "cell_type": "markdown",
   "metadata": {},
   "source": [
    "# Demand Forecasting Predictions \n",
    "\n",
    "This notebook is for the capstone project for Udacitys Nanodegree - **Machine Learning Engineer**. More information about the project will be provided below. "
   ]
  },
  {
   "cell_type": "markdown",
   "metadata": {},
   "source": [
    "# Structure \n",
    "\n",
    "1. Background\n",
    "2. Import libraries and set up Dataframes\n",
    "3. Explore the Data\n",
    "4. Create models\n",
    "5. Test models\n",
    "6. Summary of Results"
   ]
  },
  {
   "cell_type": "markdown",
   "metadata": {},
   "source": [
    "## 1.1 Background of the Data & Potential End Results\n",
    "\n",
    "#### 1.1.1 Supply Chain Management & Demand Forecasting \n",
    "\n",
    "Text\n",
    "\n",
    "#### 1.1.2 The old way\n",
    "\n",
    "Text\n",
    "\n",
    "#### 1.1.3 The potential new way\n",
    "\n",
    "Text\n",
    "\n",
    "### 1.2 Risks / Limitations \n",
    "\n",
    "* Neural networks usually need a larger quantity of data to train on, therefore we will have this in mind when we assess the final results for the depand predicitons. \n",
    "\n",
    "\n",
    "### 1.3 The hypothesis \n",
    "\n",
    "* The more advanced NN will provide better forecasting, but not in a significant way, given the limitations of these models addressed above. \n"
   ]
  },
  {
   "cell_type": "markdown",
   "metadata": {},
   "source": [
    "# 2.1 - Import Libraries & Set up Data\n",
    "\n",
    "* In this section we will import the nessessary libraries and the data from kaggle.com. \n",
    "\n",
    "* We will then proceed and create dataframes (df's) that match each other, so we can try to answer the final question of **Predict the department-wide sales for each store**. \n",
    "\n",
    "![Kaggle](https://dox4euoyzny9u.cloudfront.net/images/blog/uploads/dataprocessinggdpr.jpg)"
   ]
  },
  {
   "cell_type": "markdown",
   "metadata": {},
   "source": [
    "### Libraries to import"
   ]
  },
  {
   "cell_type": "code",
   "execution_count": 3,
   "metadata": {},
   "outputs": [],
   "source": [
    "import pandas as pd \n",
    "import numpy as np \n",
    "\n",
    "\n"
   ]
  },
  {
   "cell_type": "markdown",
   "metadata": {},
   "source": [
    "### Data to import"
   ]
  },
  {
   "cell_type": "code",
   "execution_count": null,
   "metadata": {},
   "outputs": [],
   "source": [
    "# Import data from repo \n",
    "\n"
   ]
  }
 ],
 "metadata": {
  "kernelspec": {
   "display_name": "Python 3",
   "language": "python",
   "name": "python3"
  },
  "language_info": {
   "codemirror_mode": {
    "name": "ipython",
    "version": 3
   },
   "file_extension": ".py",
   "mimetype": "text/x-python",
   "name": "python",
   "nbconvert_exporter": "python",
   "pygments_lexer": "ipython3",
   "version": "3.7.7"
  }
 },
 "nbformat": 4,
 "nbformat_minor": 4
}
