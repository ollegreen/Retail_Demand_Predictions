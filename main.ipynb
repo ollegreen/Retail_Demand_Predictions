{
 "cells": [
  {
   "cell_type": "markdown",
   "metadata": {},
   "source": [
    "# Demand Forecasting Predictions \n",
    "\n",
    "***Let's get started.***\n",
    "\n",
    "![Walmart](https://nypost.com/wp-content/uploads/sites/2/2019/08/walmart-tesla.jpg?quality=80&strip=all&w=618&h=410&crop=1)\n",
    "\n",
    "## Info\n",
    "\n",
    "* This notebook is for the capstone project for Udacitys Nanodegree - **Machine Learning Engineer**. More information about the project will be provided below. \n",
    "\n",
    "* To test the prediciton score, we will submit the predictions to the Kaggle competition by Walmart which the data originated from, see link [here](https://www.kaggle.com/c/walmart-recruiting-store-sales-forecasting/overview). "
   ]
  },
  {
   "cell_type": "markdown",
   "metadata": {},
   "source": [
    "# Structure \n",
    "\n",
    "1. Import libraries and set up Dataframes\n",
    "2. Explore the Data\n",
    "3. Create Train & Test Data\n",
    "4. Set up Benchmark Model Score\n",
    "5. Create & Test models \n",
    "6. Summary of Results & Pick winning model for submission\n",
    "7. Submission Score & Comparison to Benchmark"
   ]
  },
  {
   "cell_type": "markdown",
   "metadata": {},
   "source": [
    "# 1. Import Libraries & Set up Data\n",
    "\n",
    "**The first stage.**\n",
    "\n",
    "![Kaggle](https://dox4euoyzny9u.cloudfront.net/images/blog/uploads/dataprocessinggdpr.jpg)\n",
    "\n",
    "### What will we will do in this section?\n",
    "\n",
    "* In this section we will import the nessessary libraries and the data from kaggle.com. \n",
    "* Link to dataset **[here](https://www.kaggle.com/c/walmart-recruiting-store-sales-forecasting/overview).**\n",
    "\n",
    "* We will then proceed and create dataframes (df's) that match each other, so we can try to answer the final question of; ***Predict the department-wide sales for each store***.\n"
   ]
  },
  {
   "cell_type": "markdown",
   "metadata": {},
   "source": [
    "### Libraries to import"
   ]
  },
  {
   "cell_type": "code",
   "execution_count": 33,
   "metadata": {
    "scrolled": true
   },
   "outputs": [],
   "source": [
    "import pandas as pd\n",
    "import numpy as np\n",
    "import seaborn as sns\n",
    "import matplotlib.pyplot as plt\n",
    "#from lofo import LOFOImportance # https://github.com/aerdem4/lofo-importance\n",
    "%matplotlib inline\n",
    "plt.style.use('seaborn-whitegrid')\n",
    "import sklearn.metrics as metrics\n",
    "from sklearn.metrics import mean_squared_error, mean_absolute_error, r2_score\n",
    "from datetime import datetime\n",
    "import math\n",
    "from sklearn.model_selection import train_test_split\n",
    "\n",
    "from sklearn.linear_model import LinearRegression\n",
    "from sklearn.neighbors import KNeighborsRegressor\n",
    "from sklearn.linear_model import Ridge\n",
    "from sklearn.linear_model import Lasso\n",
    "from sklearn.tree import DecisionTreeRegressor\n",
    "from sklearn.ensemble import RandomForestRegressor\n",
    "from sklearn.ensemble import ExtraTreesRegressor\n",
    "from xgboost import XGBRegressor"
   ]
  },
  {
   "cell_type": "markdown",
   "metadata": {},
   "source": [
    "### Data to import"
   ]
  },
  {
   "cell_type": "code",
   "execution_count": 3,
   "metadata": {},
   "outputs": [
    {
     "data": {
      "text/html": [
       "<div>\n",
       "<style scoped>\n",
       "    .dataframe tbody tr th:only-of-type {\n",
       "        vertical-align: middle;\n",
       "    }\n",
       "\n",
       "    .dataframe tbody tr th {\n",
       "        vertical-align: top;\n",
       "    }\n",
       "\n",
       "    .dataframe thead th {\n",
       "        text-align: right;\n",
       "    }\n",
       "</style>\n",
       "<table border=\"1\" class=\"dataframe\">\n",
       "  <thead>\n",
       "    <tr style=\"text-align: right;\">\n",
       "      <th></th>\n",
       "      <th>Store</th>\n",
       "      <th>Dept</th>\n",
       "      <th>Date</th>\n",
       "      <th>IsHoliday</th>\n",
       "    </tr>\n",
       "  </thead>\n",
       "  <tbody>\n",
       "    <tr>\n",
       "      <th>0</th>\n",
       "      <td>1</td>\n",
       "      <td>1</td>\n",
       "      <td>2012-11-02</td>\n",
       "      <td>False</td>\n",
       "    </tr>\n",
       "    <tr>\n",
       "      <th>1</th>\n",
       "      <td>1</td>\n",
       "      <td>1</td>\n",
       "      <td>2012-11-09</td>\n",
       "      <td>False</td>\n",
       "    </tr>\n",
       "    <tr>\n",
       "      <th>2</th>\n",
       "      <td>1</td>\n",
       "      <td>1</td>\n",
       "      <td>2012-11-16</td>\n",
       "      <td>False</td>\n",
       "    </tr>\n",
       "  </tbody>\n",
       "</table>\n",
       "</div>"
      ],
      "text/plain": [
       "   Store  Dept        Date  IsHoliday\n",
       "0      1     1  2012-11-02      False\n",
       "1      1     1  2012-11-09      False\n",
       "2      1     1  2012-11-16      False"
      ]
     },
     "execution_count": 3,
     "metadata": {},
     "output_type": "execute_result"
    }
   ],
   "source": [
    "# Import data\n",
    "df_f = pd.read_csv(\"data/features.csv\")\n",
    "df_st = pd.read_csv(\"data/stores.csv\")\n",
    "df_train = pd.read_csv(\"data/train.csv\")\n",
    "df_test = pd.read_csv(\"data/test.csv\")\n",
    "\n",
    "\n",
    "# check the data\n",
    "df_test.head(3)"
   ]
  },
  {
   "cell_type": "code",
   "execution_count": 4,
   "metadata": {},
   "outputs": [
    {
     "name": "stdout",
     "output_type": "stream",
     "text": [
      "0   2010-02-05\n",
      "Name: Date, dtype: datetime64[ns] 421569   2012-10-26\n",
      "Name: Date, dtype: datetime64[ns]\n",
      "0   2012-11-02\n",
      "Name: Date, dtype: datetime64[ns] 115063   2013-07-26\n",
      "Name: Date, dtype: datetime64[ns]\n",
      "0   2010-05-02\n",
      "Name: Date, dtype: datetime64[ns] 8189   2013-07-26\n",
      "Name: Date, dtype: datetime64[ns]\n"
     ]
    }
   ],
   "source": [
    "# Make date column into datetime\n",
    "df_f[\"Date\"] = pd.to_datetime(df_f[\"Date\"])\n",
    "df_train[\"Date\"] = pd.to_datetime(df_train[\"Date\"])\n",
    "df_test[\"Date\"] = pd.to_datetime(df_test[\"Date\"])\n",
    "\n",
    "# Test if it works\n",
    "print(df_train[0:1].Date, df_train[-1:].Date)\n",
    "print(df_test[0:1].Date, df_test[-1:].Date)\n",
    "print(df_f[0:1].Date, df_f[-1:].Date)"
   ]
  },
  {
   "cell_type": "code",
   "execution_count": 5,
   "metadata": {},
   "outputs": [
    {
     "name": "stdout",
     "output_type": "stream",
     "text": [
      "(8190, 12)\n",
      "(421570, 5)\n",
      "(115064, 4)\n",
      "(45, 3)\n"
     ]
    }
   ],
   "source": [
    "# Assess the total amount of columns and rows in a more consise way\n",
    "print(df_f.shape)\n",
    "print(df_train.shape)\n",
    "print(df_test.shape)\n",
    "print(df_st.shape)"
   ]
  },
  {
   "cell_type": "markdown",
   "metadata": {},
   "source": [
    "##### What do we know about our data so far?\n",
    "* So we can see we are working with over 421 570 rows of data in the train dataframe, over 5 columns. This looks like it's this large due to the fact of the 45 different stores. \n",
    "\n",
    "* Moreover, for our test data we have 115 063 rows of data over 5 columns. \n",
    "\n",
    "\n",
    "* Then we have 8190 rows of data over 12 different columns in the Features dataframe. \n",
    "\n",
    "* Finally we have 45 rows of data over 3 columns in the stores dataframe. \n",
    "\n",
    "***Next** we will proceed to address the NaN values we could identify in the .head() formula above.*"
   ]
  },
  {
   "cell_type": "markdown",
   "metadata": {},
   "source": [
    "### Merge data into 1 DataFrame\n",
    "\n",
    "We do this to get some assistance in assessing the features and the time when we proceed with the modeling. "
   ]
  },
  {
   "cell_type": "code",
   "execution_count": 6,
   "metadata": {},
   "outputs": [
    {
     "data": {
      "text/html": [
       "<div>\n",
       "<style scoped>\n",
       "    .dataframe tbody tr th:only-of-type {\n",
       "        vertical-align: middle;\n",
       "    }\n",
       "\n",
       "    .dataframe tbody tr th {\n",
       "        vertical-align: top;\n",
       "    }\n",
       "\n",
       "    .dataframe thead th {\n",
       "        text-align: right;\n",
       "    }\n",
       "</style>\n",
       "<table border=\"1\" class=\"dataframe\">\n",
       "  <thead>\n",
       "    <tr style=\"text-align: right;\">\n",
       "      <th></th>\n",
       "      <th>Store</th>\n",
       "      <th>Dept</th>\n",
       "      <th>Date</th>\n",
       "      <th>IsHoliday</th>\n",
       "      <th>Temperature</th>\n",
       "      <th>Fuel_Price</th>\n",
       "      <th>MarkDown1</th>\n",
       "      <th>MarkDown2</th>\n",
       "      <th>MarkDown3</th>\n",
       "      <th>MarkDown4</th>\n",
       "      <th>MarkDown5</th>\n",
       "      <th>CPI</th>\n",
       "      <th>Unemployment</th>\n",
       "    </tr>\n",
       "  </thead>\n",
       "  <tbody>\n",
       "    <tr>\n",
       "      <th>115061</th>\n",
       "      <td>45</td>\n",
       "      <td>98</td>\n",
       "      <td>2013-07-12</td>\n",
       "      <td>False</td>\n",
       "      <td>NaN</td>\n",
       "      <td>NaN</td>\n",
       "      <td>NaN</td>\n",
       "      <td>NaN</td>\n",
       "      <td>NaN</td>\n",
       "      <td>NaN</td>\n",
       "      <td>NaN</td>\n",
       "      <td>NaN</td>\n",
       "      <td>NaN</td>\n",
       "    </tr>\n",
       "    <tr>\n",
       "      <th>115062</th>\n",
       "      <td>45</td>\n",
       "      <td>98</td>\n",
       "      <td>2013-07-19</td>\n",
       "      <td>False</td>\n",
       "      <td>82.84</td>\n",
       "      <td>3.737</td>\n",
       "      <td>2961.49</td>\n",
       "      <td>1047.07</td>\n",
       "      <td>204.19</td>\n",
       "      <td>363.00</td>\n",
       "      <td>1059.46</td>\n",
       "      <td>NaN</td>\n",
       "      <td>NaN</td>\n",
       "    </tr>\n",
       "    <tr>\n",
       "      <th>115063</th>\n",
       "      <td>45</td>\n",
       "      <td>98</td>\n",
       "      <td>2013-07-26</td>\n",
       "      <td>False</td>\n",
       "      <td>76.06</td>\n",
       "      <td>3.804</td>\n",
       "      <td>212.02</td>\n",
       "      <td>851.73</td>\n",
       "      <td>2.06</td>\n",
       "      <td>10.88</td>\n",
       "      <td>1864.57</td>\n",
       "      <td>NaN</td>\n",
       "      <td>NaN</td>\n",
       "    </tr>\n",
       "  </tbody>\n",
       "</table>\n",
       "</div>"
      ],
      "text/plain": [
       "        Store  Dept       Date  IsHoliday  Temperature  Fuel_Price  MarkDown1  \\\n",
       "115061     45    98 2013-07-12      False          NaN         NaN        NaN   \n",
       "115062     45    98 2013-07-19      False        82.84       3.737    2961.49   \n",
       "115063     45    98 2013-07-26      False        76.06       3.804     212.02   \n",
       "\n",
       "        MarkDown2  MarkDown3  MarkDown4  MarkDown5  CPI  Unemployment  \n",
       "115061        NaN        NaN        NaN        NaN  NaN           NaN  \n",
       "115062    1047.07     204.19     363.00    1059.46  NaN           NaN  \n",
       "115063     851.73       2.06      10.88    1864.57  NaN           NaN  "
      ]
     },
     "execution_count": 6,
     "metadata": {},
     "output_type": "execute_result"
    }
   ],
   "source": [
    "# Merging training data\n",
    "df_all_train = df_train.merge(df_f, how=\"left\", on=[\"Store\",\"Date\",\"IsHoliday\"])\n",
    "#df_all_train.head(3)\n",
    "\n",
    "# Merging test data\n",
    "df_all_test = df_test.merge(df_f, how=\"left\", on=[\"Store\",\"Date\",\"IsHoliday\"])\n",
    "df_all_test.tail(3)\n"
   ]
  },
  {
   "cell_type": "code",
   "execution_count": 7,
   "metadata": {},
   "outputs": [],
   "source": [
    "# More merging of training data\n",
    "df_all_train = df_all_train.merge(df_st, how=\"left\", on=[\"Store\"])\n",
    "df_all_train.head(3)\n",
    "\n",
    "# More merging of test data\n",
    "df_all_test = df_all_test.merge(df_st, how=\"left\", on=[\"Store\"])\n",
    "#df_all_test.head(3)\n"
   ]
  },
  {
   "cell_type": "code",
   "execution_count": 8,
   "metadata": {},
   "outputs": [
    {
     "name": "stdout",
     "output_type": "stream",
     "text": [
      "Rows & Columns:  (421570, 16) \n",
      "All columns if the df:  ['Store', 'Dept', 'Date', 'Weekly_Sales', 'IsHoliday', 'Temperature', 'Fuel_Price', 'MarkDown1', 'MarkDown2', 'MarkDown3', 'MarkDown4', 'MarkDown5', 'CPI', 'Unemployment', 'Type', 'Size']\n",
      "Rows & Columns:  (115064, 15) \n",
      "All columns if the df:  ['Store', 'Dept', 'Date', 'IsHoliday', 'Temperature', 'Fuel_Price', 'MarkDown1', 'MarkDown2', 'MarkDown3', 'MarkDown4', 'MarkDown5', 'CPI', 'Unemployment', 'Type', 'Size']\n"
     ]
    }
   ],
   "source": [
    "# Check how our final df_all_train looks\n",
    "print(\"Rows & Columns: \", df_all_train.shape, \"\\nAll columns if the df: \", df_all_train.columns.tolist())\n",
    "\n",
    "# # Check how our final df_all_test looks\n",
    "print(\"Rows & Columns: \", df_all_test.shape, \"\\nAll columns if the df: \", df_all_test.columns.tolist())\n"
   ]
  },
  {
   "cell_type": "markdown",
   "metadata": {},
   "source": [
    "### What is in our new *df_all* dataframe?\n",
    "\n",
    "* **What is included?** All columns from the three original files are now in the same dataframe, being; *'Store', 'Dept', 'Date', 'Weekly_Sales', 'IsHoliday', 'Temperature', 'Fuel_Price', 'MarkDown1', 'MarkDown2', 'MarkDown3', 'MarkDown4', 'MarkDown5', 'CPI', 'Unemployment', 'Type', 'Size'*\n",
    "* **Why do it this way?** We got everything in the same df now to proceed to fix NaN values etc to keep everything at the same place. If we need specific columns, we don't need to go through specific files, we have everything at the same place, which makes it easier to keep in check. "
   ]
  },
  {
   "cell_type": "code",
   "execution_count": 9,
   "metadata": {},
   "outputs": [],
   "source": [
    "df_all_train = df_all_train.applymap(lambda x: 1 if x == True else x)\n",
    "df_all_train = df_all_train.applymap(lambda x: 0 if x == False else x)\n",
    "\n",
    "df_all_test = df_all_test.applymap(lambda x: 1 if x == True else x)\n",
    "df_all_test = df_all_test.applymap(lambda x: 0 if x == False else x)"
   ]
  },
  {
   "cell_type": "code",
   "execution_count": 10,
   "metadata": {},
   "outputs": [
    {
     "data": {
      "text/html": [
       "<div>\n",
       "<style scoped>\n",
       "    .dataframe tbody tr th:only-of-type {\n",
       "        vertical-align: middle;\n",
       "    }\n",
       "\n",
       "    .dataframe tbody tr th {\n",
       "        vertical-align: top;\n",
       "    }\n",
       "\n",
       "    .dataframe thead th {\n",
       "        text-align: right;\n",
       "    }\n",
       "</style>\n",
       "<table border=\"1\" class=\"dataframe\">\n",
       "  <thead>\n",
       "    <tr style=\"text-align: right;\">\n",
       "      <th></th>\n",
       "      <th>Store</th>\n",
       "      <th>Dept</th>\n",
       "      <th>Date</th>\n",
       "      <th>Weekly_Sales</th>\n",
       "      <th>IsHoliday</th>\n",
       "      <th>Temperature</th>\n",
       "      <th>Fuel_Price</th>\n",
       "      <th>MarkDown1</th>\n",
       "      <th>MarkDown2</th>\n",
       "      <th>MarkDown3</th>\n",
       "      <th>MarkDown4</th>\n",
       "      <th>MarkDown5</th>\n",
       "      <th>CPI</th>\n",
       "      <th>Unemployment</th>\n",
       "      <th>Type</th>\n",
       "      <th>Size</th>\n",
       "    </tr>\n",
       "  </thead>\n",
       "  <tbody>\n",
       "    <tr>\n",
       "      <th>0</th>\n",
       "      <td>1</td>\n",
       "      <td>1</td>\n",
       "      <td>2010-02-05</td>\n",
       "      <td>24924.50</td>\n",
       "      <td>0</td>\n",
       "      <td>NaN</td>\n",
       "      <td>NaN</td>\n",
       "      <td>NaN</td>\n",
       "      <td>NaN</td>\n",
       "      <td>NaN</td>\n",
       "      <td>NaN</td>\n",
       "      <td>NaN</td>\n",
       "      <td>NaN</td>\n",
       "      <td>NaN</td>\n",
       "      <td>A</td>\n",
       "      <td>151315</td>\n",
       "    </tr>\n",
       "    <tr>\n",
       "      <th>1</th>\n",
       "      <td>1</td>\n",
       "      <td>1</td>\n",
       "      <td>2010-02-12</td>\n",
       "      <td>46039.49</td>\n",
       "      <td>1</td>\n",
       "      <td>NaN</td>\n",
       "      <td>NaN</td>\n",
       "      <td>NaN</td>\n",
       "      <td>NaN</td>\n",
       "      <td>NaN</td>\n",
       "      <td>NaN</td>\n",
       "      <td>NaN</td>\n",
       "      <td>NaN</td>\n",
       "      <td>NaN</td>\n",
       "      <td>A</td>\n",
       "      <td>151315</td>\n",
       "    </tr>\n",
       "    <tr>\n",
       "      <th>2</th>\n",
       "      <td>1</td>\n",
       "      <td>1</td>\n",
       "      <td>2010-02-19</td>\n",
       "      <td>41595.55</td>\n",
       "      <td>0</td>\n",
       "      <td>39.93</td>\n",
       "      <td>2.514</td>\n",
       "      <td>NaN</td>\n",
       "      <td>NaN</td>\n",
       "      <td>NaN</td>\n",
       "      <td>NaN</td>\n",
       "      <td>NaN</td>\n",
       "      <td>211.289143</td>\n",
       "      <td>8.106</td>\n",
       "      <td>A</td>\n",
       "      <td>151315</td>\n",
       "    </tr>\n",
       "  </tbody>\n",
       "</table>\n",
       "</div>"
      ],
      "text/plain": [
       "   Store  Dept       Date  Weekly_Sales  IsHoliday  Temperature  Fuel_Price  \\\n",
       "0      1     1 2010-02-05      24924.50          0          NaN         NaN   \n",
       "1      1     1 2010-02-12      46039.49          1          NaN         NaN   \n",
       "2      1     1 2010-02-19      41595.55          0        39.93       2.514   \n",
       "\n",
       "   MarkDown1  MarkDown2  MarkDown3  MarkDown4  MarkDown5         CPI  \\\n",
       "0        NaN        NaN        NaN        NaN        NaN         NaN   \n",
       "1        NaN        NaN        NaN        NaN        NaN         NaN   \n",
       "2        NaN        NaN        NaN        NaN        NaN  211.289143   \n",
       "\n",
       "   Unemployment Type    Size  \n",
       "0           NaN    A  151315  \n",
       "1           NaN    A  151315  \n",
       "2         8.106    A  151315  "
      ]
     },
     "execution_count": 10,
     "metadata": {},
     "output_type": "execute_result"
    }
   ],
   "source": [
    "# Checking the DFs\n",
    "df_all_train.head(3)\n",
    "#df_all_test.head(3)"
   ]
  },
  {
   "cell_type": "markdown",
   "metadata": {},
   "source": [
    "### Deal with NaN values "
   ]
  },
  {
   "cell_type": "code",
   "execution_count": 11,
   "metadata": {},
   "outputs": [
    {
     "data": {
      "text/html": [
       "<div>\n",
       "<style scoped>\n",
       "    .dataframe tbody tr th:only-of-type {\n",
       "        vertical-align: middle;\n",
       "    }\n",
       "\n",
       "    .dataframe tbody tr th {\n",
       "        vertical-align: top;\n",
       "    }\n",
       "\n",
       "    .dataframe thead th {\n",
       "        text-align: right;\n",
       "    }\n",
       "</style>\n",
       "<table border=\"1\" class=\"dataframe\">\n",
       "  <thead>\n",
       "    <tr style=\"text-align: right;\">\n",
       "      <th></th>\n",
       "      <th>Store</th>\n",
       "      <th>Dept</th>\n",
       "      <th>Date</th>\n",
       "      <th>Weekly_Sales</th>\n",
       "      <th>IsHoliday</th>\n",
       "      <th>Temperature</th>\n",
       "      <th>Fuel_Price</th>\n",
       "      <th>MarkDown1</th>\n",
       "      <th>MarkDown2</th>\n",
       "      <th>MarkDown3</th>\n",
       "      <th>MarkDown4</th>\n",
       "      <th>MarkDown5</th>\n",
       "      <th>CPI</th>\n",
       "      <th>Unemployment</th>\n",
       "      <th>Type</th>\n",
       "      <th>Size</th>\n",
       "    </tr>\n",
       "  </thead>\n",
       "  <tbody>\n",
       "    <tr>\n",
       "      <th>column Type</th>\n",
       "      <td>int64</td>\n",
       "      <td>int64</td>\n",
       "      <td>datetime64[ns]</td>\n",
       "      <td>float64</td>\n",
       "      <td>int64</td>\n",
       "      <td>float64</td>\n",
       "      <td>float64</td>\n",
       "      <td>float64</td>\n",
       "      <td>float64</td>\n",
       "      <td>float64</td>\n",
       "      <td>float64</td>\n",
       "      <td>float64</td>\n",
       "      <td>float64</td>\n",
       "      <td>float64</td>\n",
       "      <td>object</td>\n",
       "      <td>int64</td>\n",
       "    </tr>\n",
       "    <tr>\n",
       "      <th>null values (nb)</th>\n",
       "      <td>0</td>\n",
       "      <td>0</td>\n",
       "      <td>0</td>\n",
       "      <td>0</td>\n",
       "      <td>0</td>\n",
       "      <td>138586</td>\n",
       "      <td>138586</td>\n",
       "      <td>312211</td>\n",
       "      <td>333176</td>\n",
       "      <td>325015</td>\n",
       "      <td>324027</td>\n",
       "      <td>311805</td>\n",
       "      <td>138586</td>\n",
       "      <td>138586</td>\n",
       "      <td>0</td>\n",
       "      <td>0</td>\n",
       "    </tr>\n",
       "    <tr>\n",
       "      <th>null values (%)</th>\n",
       "      <td>0</td>\n",
       "      <td>0</td>\n",
       "      <td>0</td>\n",
       "      <td>0</td>\n",
       "      <td>0</td>\n",
       "      <td>32.8738</td>\n",
       "      <td>32.8738</td>\n",
       "      <td>74.0591</td>\n",
       "      <td>79.0322</td>\n",
       "      <td>77.0963</td>\n",
       "      <td>76.862</td>\n",
       "      <td>73.9628</td>\n",
       "      <td>32.8738</td>\n",
       "      <td>32.8738</td>\n",
       "      <td>0</td>\n",
       "      <td>0</td>\n",
       "    </tr>\n",
       "  </tbody>\n",
       "</table>\n",
       "</div>"
      ],
      "text/plain": [
       "                  Store   Dept            Date Weekly_Sales IsHoliday  \\\n",
       "column Type       int64  int64  datetime64[ns]      float64     int64   \n",
       "null values (nb)      0      0               0            0         0   \n",
       "null values (%)       0      0               0            0         0   \n",
       "\n",
       "                 Temperature Fuel_Price MarkDown1 MarkDown2 MarkDown3  \\\n",
       "column Type          float64    float64   float64   float64   float64   \n",
       "null values (nb)      138586     138586    312211    333176    325015   \n",
       "null values (%)      32.8738    32.8738   74.0591   79.0322   77.0963   \n",
       "\n",
       "                 MarkDown4 MarkDown5      CPI Unemployment    Type   Size  \n",
       "column Type        float64   float64  float64      float64  object  int64  \n",
       "null values (nb)    324027    311805   138586       138586       0      0  \n",
       "null values (%)     76.862   73.9628  32.8738      32.8738       0      0  "
      ]
     },
     "execution_count": 11,
     "metadata": {},
     "output_type": "execute_result"
    }
   ],
   "source": [
    "# Check where we find NaN values\n",
    "\n",
    "tab_info = pd.DataFrame(df_all_train.dtypes).T.rename(index={0:'column Type'}) \n",
    "tab_info = tab_info.append(pd.DataFrame(df_all_train.isnull().sum()).T.rename(index={0:'null values (nb)'}))\n",
    "tab_info = tab_info.append(pd.DataFrame(df_all_train.isnull().sum()/df_all_train.shape[0]*100).T.\n",
    "                                       rename(index={0: 'null values (%)'}))\n",
    "tab_info"
   ]
  },
  {
   "cell_type": "code",
   "execution_count": 12,
   "metadata": {},
   "outputs": [],
   "source": [
    "#replace Temperature, fule price, CPI and unemployment with averages. \n",
    "# This seems more reasonable than replacing them with \"0\"s.                                                \n",
    "df_all_train[[\"Temperature\"]] = df_all_train[[\"Temperature\"]].fillna(df_all_train[[\"Temperature\"]].mean())\n",
    "df_all_train[[\"Fuel_Price\"]] = df_all_train[[\"Fuel_Price\"]].fillna(df_all_train[[\"Fuel_Price\"]].mean())\n",
    "df_all_train[[\"CPI\"]] = df_all_train[[\"CPI\"]].fillna(df_all_train[[\"CPI\"]].mean())\n",
    "df_all_train[[\"Unemployment\"]] = df_all_train[[\"Unemployment\"]].fillna(df_all_train[[\"Unemployment\"]].mean())\n",
    "\n",
    "df_all_test[[\"Temperature\"]] = df_all_test[[\"Temperature\"]].fillna(df_all_test[[\"Temperature\"]].mean())\n",
    "df_all_test[[\"Fuel_Price\"]] = df_all_test[[\"Fuel_Price\"]].fillna(df_all_test[[\"Fuel_Price\"]].mean())\n",
    "df_all_test[[\"CPI\"]] = df_all_test[[\"CPI\"]].fillna(df_all_train[[\"CPI\"]].mean())\n",
    "df_all_test[[\"Unemployment\"]] = df_all_test[[\"Unemployment\"]].fillna(df_all_test[[\"Unemployment\"]].mean())"
   ]
  },
  {
   "cell_type": "code",
   "execution_count": 13,
   "metadata": {},
   "outputs": [
    {
     "data": {
      "text/html": [
       "<div>\n",
       "<style scoped>\n",
       "    .dataframe tbody tr th:only-of-type {\n",
       "        vertical-align: middle;\n",
       "    }\n",
       "\n",
       "    .dataframe tbody tr th {\n",
       "        vertical-align: top;\n",
       "    }\n",
       "\n",
       "    .dataframe thead th {\n",
       "        text-align: right;\n",
       "    }\n",
       "</style>\n",
       "<table border=\"1\" class=\"dataframe\">\n",
       "  <thead>\n",
       "    <tr style=\"text-align: right;\">\n",
       "      <th></th>\n",
       "      <th>Store</th>\n",
       "      <th>Dept</th>\n",
       "      <th>Date</th>\n",
       "      <th>Weekly_Sales</th>\n",
       "      <th>IsHoliday</th>\n",
       "      <th>Temperature</th>\n",
       "      <th>Fuel_Price</th>\n",
       "      <th>MarkDown1</th>\n",
       "      <th>MarkDown2</th>\n",
       "      <th>MarkDown3</th>\n",
       "      <th>MarkDown4</th>\n",
       "      <th>MarkDown5</th>\n",
       "      <th>CPI</th>\n",
       "      <th>Unemployment</th>\n",
       "      <th>Type</th>\n",
       "      <th>Size</th>\n",
       "    </tr>\n",
       "  </thead>\n",
       "  <tbody>\n",
       "    <tr>\n",
       "      <th>0</th>\n",
       "      <td>1</td>\n",
       "      <td>1</td>\n",
       "      <td>2010-02-05</td>\n",
       "      <td>24924.50</td>\n",
       "      <td>0</td>\n",
       "      <td>59.935594</td>\n",
       "      <td>3.380391</td>\n",
       "      <td>NaN</td>\n",
       "      <td>NaN</td>\n",
       "      <td>NaN</td>\n",
       "      <td>NaN</td>\n",
       "      <td>NaN</td>\n",
       "      <td>171.373307</td>\n",
       "      <td>7.940535</td>\n",
       "      <td>A</td>\n",
       "      <td>151315</td>\n",
       "    </tr>\n",
       "    <tr>\n",
       "      <th>1</th>\n",
       "      <td>1</td>\n",
       "      <td>1</td>\n",
       "      <td>2010-02-12</td>\n",
       "      <td>46039.49</td>\n",
       "      <td>1</td>\n",
       "      <td>59.935594</td>\n",
       "      <td>3.380391</td>\n",
       "      <td>NaN</td>\n",
       "      <td>NaN</td>\n",
       "      <td>NaN</td>\n",
       "      <td>NaN</td>\n",
       "      <td>NaN</td>\n",
       "      <td>171.373307</td>\n",
       "      <td>7.940535</td>\n",
       "      <td>A</td>\n",
       "      <td>151315</td>\n",
       "    </tr>\n",
       "    <tr>\n",
       "      <th>2</th>\n",
       "      <td>1</td>\n",
       "      <td>1</td>\n",
       "      <td>2010-02-19</td>\n",
       "      <td>41595.55</td>\n",
       "      <td>0</td>\n",
       "      <td>39.930000</td>\n",
       "      <td>2.514000</td>\n",
       "      <td>NaN</td>\n",
       "      <td>NaN</td>\n",
       "      <td>NaN</td>\n",
       "      <td>NaN</td>\n",
       "      <td>NaN</td>\n",
       "      <td>211.289143</td>\n",
       "      <td>8.106000</td>\n",
       "      <td>A</td>\n",
       "      <td>151315</td>\n",
       "    </tr>\n",
       "  </tbody>\n",
       "</table>\n",
       "</div>"
      ],
      "text/plain": [
       "   Store  Dept       Date  Weekly_Sales  IsHoliday  Temperature  Fuel_Price  \\\n",
       "0      1     1 2010-02-05      24924.50          0    59.935594    3.380391   \n",
       "1      1     1 2010-02-12      46039.49          1    59.935594    3.380391   \n",
       "2      1     1 2010-02-19      41595.55          0    39.930000    2.514000   \n",
       "\n",
       "   MarkDown1  MarkDown2  MarkDown3  MarkDown4  MarkDown5         CPI  \\\n",
       "0        NaN        NaN        NaN        NaN        NaN  171.373307   \n",
       "1        NaN        NaN        NaN        NaN        NaN  171.373307   \n",
       "2        NaN        NaN        NaN        NaN        NaN  211.289143   \n",
       "\n",
       "   Unemployment Type    Size  \n",
       "0      7.940535    A  151315  \n",
       "1      7.940535    A  151315  \n",
       "2      8.106000    A  151315  "
      ]
     },
     "execution_count": 13,
     "metadata": {},
     "output_type": "execute_result"
    }
   ],
   "source": [
    "# Check the results\n",
    "df_all_train.head(3)"
   ]
  },
  {
   "cell_type": "code",
   "execution_count": 14,
   "metadata": {},
   "outputs": [],
   "source": [
    "# Replace the NaN values in markdown with 0\n",
    "df_all_train = df_all_train.fillna(0)\n",
    "df_all_test = df_all_test.fillna(0)"
   ]
  },
  {
   "cell_type": "code",
   "execution_count": 15,
   "metadata": {},
   "outputs": [
    {
     "data": {
      "text/html": [
       "<div>\n",
       "<style scoped>\n",
       "    .dataframe tbody tr th:only-of-type {\n",
       "        vertical-align: middle;\n",
       "    }\n",
       "\n",
       "    .dataframe tbody tr th {\n",
       "        vertical-align: top;\n",
       "    }\n",
       "\n",
       "    .dataframe thead th {\n",
       "        text-align: right;\n",
       "    }\n",
       "</style>\n",
       "<table border=\"1\" class=\"dataframe\">\n",
       "  <thead>\n",
       "    <tr style=\"text-align: right;\">\n",
       "      <th></th>\n",
       "      <th>Store</th>\n",
       "      <th>Dept</th>\n",
       "      <th>Date</th>\n",
       "      <th>Weekly_Sales</th>\n",
       "      <th>IsHoliday</th>\n",
       "      <th>Temperature</th>\n",
       "      <th>Fuel_Price</th>\n",
       "      <th>MarkDown1</th>\n",
       "      <th>MarkDown2</th>\n",
       "      <th>MarkDown3</th>\n",
       "      <th>MarkDown4</th>\n",
       "      <th>MarkDown5</th>\n",
       "      <th>CPI</th>\n",
       "      <th>Unemployment</th>\n",
       "      <th>Type</th>\n",
       "      <th>Size</th>\n",
       "    </tr>\n",
       "  </thead>\n",
       "  <tbody>\n",
       "    <tr>\n",
       "      <th>0</th>\n",
       "      <td>1</td>\n",
       "      <td>1</td>\n",
       "      <td>2010-02-05</td>\n",
       "      <td>24924.50</td>\n",
       "      <td>0</td>\n",
       "      <td>59.935594</td>\n",
       "      <td>3.380391</td>\n",
       "      <td>0.0</td>\n",
       "      <td>0.0</td>\n",
       "      <td>0.0</td>\n",
       "      <td>0.0</td>\n",
       "      <td>0.0</td>\n",
       "      <td>171.373307</td>\n",
       "      <td>7.940535</td>\n",
       "      <td>A</td>\n",
       "      <td>151315</td>\n",
       "    </tr>\n",
       "    <tr>\n",
       "      <th>1</th>\n",
       "      <td>1</td>\n",
       "      <td>1</td>\n",
       "      <td>2010-02-12</td>\n",
       "      <td>46039.49</td>\n",
       "      <td>1</td>\n",
       "      <td>59.935594</td>\n",
       "      <td>3.380391</td>\n",
       "      <td>0.0</td>\n",
       "      <td>0.0</td>\n",
       "      <td>0.0</td>\n",
       "      <td>0.0</td>\n",
       "      <td>0.0</td>\n",
       "      <td>171.373307</td>\n",
       "      <td>7.940535</td>\n",
       "      <td>A</td>\n",
       "      <td>151315</td>\n",
       "    </tr>\n",
       "    <tr>\n",
       "      <th>2</th>\n",
       "      <td>1</td>\n",
       "      <td>1</td>\n",
       "      <td>2010-02-19</td>\n",
       "      <td>41595.55</td>\n",
       "      <td>0</td>\n",
       "      <td>39.930000</td>\n",
       "      <td>2.514000</td>\n",
       "      <td>0.0</td>\n",
       "      <td>0.0</td>\n",
       "      <td>0.0</td>\n",
       "      <td>0.0</td>\n",
       "      <td>0.0</td>\n",
       "      <td>211.289143</td>\n",
       "      <td>8.106000</td>\n",
       "      <td>A</td>\n",
       "      <td>151315</td>\n",
       "    </tr>\n",
       "  </tbody>\n",
       "</table>\n",
       "</div>"
      ],
      "text/plain": [
       "   Store  Dept       Date  Weekly_Sales  IsHoliday  Temperature  Fuel_Price  \\\n",
       "0      1     1 2010-02-05      24924.50          0    59.935594    3.380391   \n",
       "1      1     1 2010-02-12      46039.49          1    59.935594    3.380391   \n",
       "2      1     1 2010-02-19      41595.55          0    39.930000    2.514000   \n",
       "\n",
       "   MarkDown1  MarkDown2  MarkDown3  MarkDown4  MarkDown5         CPI  \\\n",
       "0        0.0        0.0        0.0        0.0        0.0  171.373307   \n",
       "1        0.0        0.0        0.0        0.0        0.0  171.373307   \n",
       "2        0.0        0.0        0.0        0.0        0.0  211.289143   \n",
       "\n",
       "   Unemployment Type    Size  \n",
       "0      7.940535    A  151315  \n",
       "1      7.940535    A  151315  \n",
       "2      8.106000    A  151315  "
      ]
     },
     "execution_count": 15,
     "metadata": {},
     "output_type": "execute_result"
    }
   ],
   "source": [
    "# Check the results\n",
    "df_all_train.head(3)"
   ]
  },
  {
   "cell_type": "code",
   "execution_count": 16,
   "metadata": {},
   "outputs": [
    {
     "data": {
      "text/html": [
       "<div>\n",
       "<style scoped>\n",
       "    .dataframe tbody tr th:only-of-type {\n",
       "        vertical-align: middle;\n",
       "    }\n",
       "\n",
       "    .dataframe tbody tr th {\n",
       "        vertical-align: top;\n",
       "    }\n",
       "\n",
       "    .dataframe thead th {\n",
       "        text-align: right;\n",
       "    }\n",
       "</style>\n",
       "<table border=\"1\" class=\"dataframe\">\n",
       "  <thead>\n",
       "    <tr style=\"text-align: right;\">\n",
       "      <th></th>\n",
       "      <th>Store</th>\n",
       "      <th>Dept</th>\n",
       "      <th>Date</th>\n",
       "      <th>Weekly_Sales</th>\n",
       "      <th>IsHoliday</th>\n",
       "      <th>Temperature</th>\n",
       "      <th>Fuel_Price</th>\n",
       "      <th>MarkDown1</th>\n",
       "      <th>MarkDown2</th>\n",
       "      <th>MarkDown3</th>\n",
       "      <th>MarkDown4</th>\n",
       "      <th>MarkDown5</th>\n",
       "      <th>CPI</th>\n",
       "      <th>Unemployment</th>\n",
       "      <th>Type</th>\n",
       "      <th>Size</th>\n",
       "    </tr>\n",
       "  </thead>\n",
       "  <tbody>\n",
       "    <tr>\n",
       "      <th>column Type</th>\n",
       "      <td>int64</td>\n",
       "      <td>int64</td>\n",
       "      <td>datetime64[ns]</td>\n",
       "      <td>float64</td>\n",
       "      <td>int64</td>\n",
       "      <td>float64</td>\n",
       "      <td>float64</td>\n",
       "      <td>float64</td>\n",
       "      <td>float64</td>\n",
       "      <td>float64</td>\n",
       "      <td>float64</td>\n",
       "      <td>float64</td>\n",
       "      <td>float64</td>\n",
       "      <td>float64</td>\n",
       "      <td>object</td>\n",
       "      <td>int64</td>\n",
       "    </tr>\n",
       "    <tr>\n",
       "      <th>null values (nb)</th>\n",
       "      <td>0</td>\n",
       "      <td>0</td>\n",
       "      <td>0</td>\n",
       "      <td>0</td>\n",
       "      <td>0</td>\n",
       "      <td>0</td>\n",
       "      <td>0</td>\n",
       "      <td>0</td>\n",
       "      <td>0</td>\n",
       "      <td>0</td>\n",
       "      <td>0</td>\n",
       "      <td>0</td>\n",
       "      <td>0</td>\n",
       "      <td>0</td>\n",
       "      <td>0</td>\n",
       "      <td>0</td>\n",
       "    </tr>\n",
       "    <tr>\n",
       "      <th>null values (%)</th>\n",
       "      <td>0</td>\n",
       "      <td>0</td>\n",
       "      <td>0</td>\n",
       "      <td>0</td>\n",
       "      <td>0</td>\n",
       "      <td>0</td>\n",
       "      <td>0</td>\n",
       "      <td>0</td>\n",
       "      <td>0</td>\n",
       "      <td>0</td>\n",
       "      <td>0</td>\n",
       "      <td>0</td>\n",
       "      <td>0</td>\n",
       "      <td>0</td>\n",
       "      <td>0</td>\n",
       "      <td>0</td>\n",
       "    </tr>\n",
       "  </tbody>\n",
       "</table>\n",
       "</div>"
      ],
      "text/plain": [
       "                  Store   Dept            Date Weekly_Sales IsHoliday  \\\n",
       "column Type       int64  int64  datetime64[ns]      float64     int64   \n",
       "null values (nb)      0      0               0            0         0   \n",
       "null values (%)       0      0               0            0         0   \n",
       "\n",
       "                 Temperature Fuel_Price MarkDown1 MarkDown2 MarkDown3  \\\n",
       "column Type          float64    float64   float64   float64   float64   \n",
       "null values (nb)           0          0         0         0         0   \n",
       "null values (%)            0          0         0         0         0   \n",
       "\n",
       "                 MarkDown4 MarkDown5      CPI Unemployment    Type   Size  \n",
       "column Type        float64   float64  float64      float64  object  int64  \n",
       "null values (nb)         0         0        0            0       0      0  \n",
       "null values (%)          0         0        0            0       0      0  "
      ]
     },
     "execution_count": 16,
     "metadata": {},
     "output_type": "execute_result"
    }
   ],
   "source": [
    "# Check NaN values in df_all_train\n",
    "\n",
    "tab_info = pd.DataFrame(df_all_train.dtypes).T.rename(index={0:'column Type'}) \n",
    "tab_info = tab_info.append(pd.DataFrame(df_all_train.isnull().sum()).T.rename(index={0:'null values (nb)'}))\n",
    "tab_info = tab_info.append(pd.DataFrame(df_all_train.isnull().sum()/df_all_train.shape[0]*100).T.\n",
    "                                       rename(index={0: 'null values (%)'}))\n",
    "tab_info"
   ]
  },
  {
   "cell_type": "code",
   "execution_count": 17,
   "metadata": {},
   "outputs": [
    {
     "data": {
      "text/html": [
       "<div>\n",
       "<style scoped>\n",
       "    .dataframe tbody tr th:only-of-type {\n",
       "        vertical-align: middle;\n",
       "    }\n",
       "\n",
       "    .dataframe tbody tr th {\n",
       "        vertical-align: top;\n",
       "    }\n",
       "\n",
       "    .dataframe thead th {\n",
       "        text-align: right;\n",
       "    }\n",
       "</style>\n",
       "<table border=\"1\" class=\"dataframe\">\n",
       "  <thead>\n",
       "    <tr style=\"text-align: right;\">\n",
       "      <th></th>\n",
       "      <th>Store</th>\n",
       "      <th>Dept</th>\n",
       "      <th>Date</th>\n",
       "      <th>IsHoliday</th>\n",
       "      <th>Temperature</th>\n",
       "      <th>Fuel_Price</th>\n",
       "      <th>MarkDown1</th>\n",
       "      <th>MarkDown2</th>\n",
       "      <th>MarkDown3</th>\n",
       "      <th>MarkDown4</th>\n",
       "      <th>MarkDown5</th>\n",
       "      <th>CPI</th>\n",
       "      <th>Unemployment</th>\n",
       "      <th>Type</th>\n",
       "      <th>Size</th>\n",
       "    </tr>\n",
       "  </thead>\n",
       "  <tbody>\n",
       "    <tr>\n",
       "      <th>column Type</th>\n",
       "      <td>int64</td>\n",
       "      <td>int64</td>\n",
       "      <td>datetime64[ns]</td>\n",
       "      <td>int64</td>\n",
       "      <td>float64</td>\n",
       "      <td>float64</td>\n",
       "      <td>float64</td>\n",
       "      <td>float64</td>\n",
       "      <td>float64</td>\n",
       "      <td>float64</td>\n",
       "      <td>float64</td>\n",
       "      <td>float64</td>\n",
       "      <td>float64</td>\n",
       "      <td>object</td>\n",
       "      <td>int64</td>\n",
       "    </tr>\n",
       "    <tr>\n",
       "      <th>null values (nb)</th>\n",
       "      <td>0</td>\n",
       "      <td>0</td>\n",
       "      <td>0</td>\n",
       "      <td>0</td>\n",
       "      <td>0</td>\n",
       "      <td>0</td>\n",
       "      <td>0</td>\n",
       "      <td>0</td>\n",
       "      <td>0</td>\n",
       "      <td>0</td>\n",
       "      <td>0</td>\n",
       "      <td>0</td>\n",
       "      <td>0</td>\n",
       "      <td>0</td>\n",
       "      <td>0</td>\n",
       "    </tr>\n",
       "    <tr>\n",
       "      <th>null values (%)</th>\n",
       "      <td>0</td>\n",
       "      <td>0</td>\n",
       "      <td>0</td>\n",
       "      <td>0</td>\n",
       "      <td>0</td>\n",
       "      <td>0</td>\n",
       "      <td>0</td>\n",
       "      <td>0</td>\n",
       "      <td>0</td>\n",
       "      <td>0</td>\n",
       "      <td>0</td>\n",
       "      <td>0</td>\n",
       "      <td>0</td>\n",
       "      <td>0</td>\n",
       "      <td>0</td>\n",
       "    </tr>\n",
       "  </tbody>\n",
       "</table>\n",
       "</div>"
      ],
      "text/plain": [
       "                  Store   Dept            Date IsHoliday Temperature  \\\n",
       "column Type       int64  int64  datetime64[ns]     int64     float64   \n",
       "null values (nb)      0      0               0         0           0   \n",
       "null values (%)       0      0               0         0           0   \n",
       "\n",
       "                 Fuel_Price MarkDown1 MarkDown2 MarkDown3 MarkDown4 MarkDown5  \\\n",
       "column Type         float64   float64   float64   float64   float64   float64   \n",
       "null values (nb)          0         0         0         0         0         0   \n",
       "null values (%)           0         0         0         0         0         0   \n",
       "\n",
       "                      CPI Unemployment    Type   Size  \n",
       "column Type       float64      float64  object  int64  \n",
       "null values (nb)        0            0       0      0  \n",
       "null values (%)         0            0       0      0  "
      ]
     },
     "execution_count": 17,
     "metadata": {},
     "output_type": "execute_result"
    }
   ],
   "source": [
    "# Check NaN values in df_all_test\n",
    "\n",
    "tab_info = pd.DataFrame(df_all_test.dtypes).T.rename(index={0:'column Type'}) \n",
    "tab_info = tab_info.append(pd.DataFrame(df_all_test.isnull().sum()).T.rename(index={0:'null values (nb)'}))\n",
    "tab_info = tab_info.append(pd.DataFrame(df_all_test.isnull().sum()/df_all_test.shape[0]*100).T.\n",
    "                                       rename(index={0: 'null values (%)'}))\n",
    "tab_info"
   ]
  },
  {
   "cell_type": "markdown",
   "metadata": {},
   "source": [
    "### Create Dummy Variables for Type of Store\n",
    "\n",
    "* We do this in order to analyse the data, as a non-numerical value will not be processed in our models."
   ]
  },
  {
   "cell_type": "code",
   "execution_count": 18,
   "metadata": {},
   "outputs": [],
   "source": [
    "df_all_train = pd.get_dummies(df_all_train, columns=[\"Type\"])\n",
    "df_all_test = pd.get_dummies(df_all_test, columns=[\"Type\"])"
   ]
  },
  {
   "cell_type": "code",
   "execution_count": 19,
   "metadata": {},
   "outputs": [
    {
     "data": {
      "text/html": [
       "<div>\n",
       "<style scoped>\n",
       "    .dataframe tbody tr th:only-of-type {\n",
       "        vertical-align: middle;\n",
       "    }\n",
       "\n",
       "    .dataframe tbody tr th {\n",
       "        vertical-align: top;\n",
       "    }\n",
       "\n",
       "    .dataframe thead th {\n",
       "        text-align: right;\n",
       "    }\n",
       "</style>\n",
       "<table border=\"1\" class=\"dataframe\">\n",
       "  <thead>\n",
       "    <tr style=\"text-align: right;\">\n",
       "      <th></th>\n",
       "      <th>Store</th>\n",
       "      <th>Dept</th>\n",
       "      <th>Date</th>\n",
       "      <th>Weekly_Sales</th>\n",
       "      <th>IsHoliday</th>\n",
       "      <th>Temperature</th>\n",
       "      <th>Fuel_Price</th>\n",
       "      <th>MarkDown1</th>\n",
       "      <th>MarkDown2</th>\n",
       "      <th>MarkDown3</th>\n",
       "      <th>MarkDown4</th>\n",
       "      <th>MarkDown5</th>\n",
       "      <th>CPI</th>\n",
       "      <th>Unemployment</th>\n",
       "      <th>Size</th>\n",
       "      <th>Type_A</th>\n",
       "      <th>Type_B</th>\n",
       "      <th>Type_C</th>\n",
       "    </tr>\n",
       "  </thead>\n",
       "  <tbody>\n",
       "    <tr>\n",
       "      <th>0</th>\n",
       "      <td>1</td>\n",
       "      <td>1</td>\n",
       "      <td>2010-02-05</td>\n",
       "      <td>24924.50</td>\n",
       "      <td>0</td>\n",
       "      <td>59.935594</td>\n",
       "      <td>3.380391</td>\n",
       "      <td>0.0</td>\n",
       "      <td>0.0</td>\n",
       "      <td>0.0</td>\n",
       "      <td>0.0</td>\n",
       "      <td>0.0</td>\n",
       "      <td>171.373307</td>\n",
       "      <td>7.940535</td>\n",
       "      <td>151315</td>\n",
       "      <td>1</td>\n",
       "      <td>0</td>\n",
       "      <td>0</td>\n",
       "    </tr>\n",
       "    <tr>\n",
       "      <th>1</th>\n",
       "      <td>1</td>\n",
       "      <td>1</td>\n",
       "      <td>2010-02-12</td>\n",
       "      <td>46039.49</td>\n",
       "      <td>1</td>\n",
       "      <td>59.935594</td>\n",
       "      <td>3.380391</td>\n",
       "      <td>0.0</td>\n",
       "      <td>0.0</td>\n",
       "      <td>0.0</td>\n",
       "      <td>0.0</td>\n",
       "      <td>0.0</td>\n",
       "      <td>171.373307</td>\n",
       "      <td>7.940535</td>\n",
       "      <td>151315</td>\n",
       "      <td>1</td>\n",
       "      <td>0</td>\n",
       "      <td>0</td>\n",
       "    </tr>\n",
       "    <tr>\n",
       "      <th>2</th>\n",
       "      <td>1</td>\n",
       "      <td>1</td>\n",
       "      <td>2010-02-19</td>\n",
       "      <td>41595.55</td>\n",
       "      <td>0</td>\n",
       "      <td>39.930000</td>\n",
       "      <td>2.514000</td>\n",
       "      <td>0.0</td>\n",
       "      <td>0.0</td>\n",
       "      <td>0.0</td>\n",
       "      <td>0.0</td>\n",
       "      <td>0.0</td>\n",
       "      <td>211.289143</td>\n",
       "      <td>8.106000</td>\n",
       "      <td>151315</td>\n",
       "      <td>1</td>\n",
       "      <td>0</td>\n",
       "      <td>0</td>\n",
       "    </tr>\n",
       "  </tbody>\n",
       "</table>\n",
       "</div>"
      ],
      "text/plain": [
       "   Store  Dept       Date  Weekly_Sales  IsHoliday  Temperature  Fuel_Price  \\\n",
       "0      1     1 2010-02-05      24924.50          0    59.935594    3.380391   \n",
       "1      1     1 2010-02-12      46039.49          1    59.935594    3.380391   \n",
       "2      1     1 2010-02-19      41595.55          0    39.930000    2.514000   \n",
       "\n",
       "   MarkDown1  MarkDown2  MarkDown3  MarkDown4  MarkDown5         CPI  \\\n",
       "0        0.0        0.0        0.0        0.0        0.0  171.373307   \n",
       "1        0.0        0.0        0.0        0.0        0.0  171.373307   \n",
       "2        0.0        0.0        0.0        0.0        0.0  211.289143   \n",
       "\n",
       "   Unemployment    Size  Type_A  Type_B  Type_C  \n",
       "0      7.940535  151315       1       0       0  \n",
       "1      7.940535  151315       1       0       0  \n",
       "2      8.106000  151315       1       0       0  "
      ]
     },
     "execution_count": 19,
     "metadata": {},
     "output_type": "execute_result"
    }
   ],
   "source": [
    "# Checking the DFs after all of the processing\n",
    "df_all_train.head(3)\n",
    "#df_all_test.head(3)"
   ]
  },
  {
   "cell_type": "markdown",
   "metadata": {},
   "source": [
    "### Done with data cleaning and processing\n",
    "\n",
    "- We can now proceed to explore the data"
   ]
  },
  {
   "cell_type": "markdown",
   "metadata": {},
   "source": [
    "______\n",
    "# 2. Data Exploration\n",
    "\n",
    "**Ways we will explore the data:**\n",
    "- .describe() function - general overview\n",
    "- General plots for the different features\n",
    "- Get average weekly sales for each store/department\n",
    "- plot of sales \n",
    "- correlation heatmap\n",
    "\n",
    "![Data](https://codemyviews-blog-post-images.s3.amazonaws.com/uploads/machine-learning.png)"
   ]
  },
  {
   "cell_type": "code",
   "execution_count": 20,
   "metadata": {},
   "outputs": [
    {
     "data": {
      "text/html": [
       "<div>\n",
       "<style scoped>\n",
       "    .dataframe tbody tr th:only-of-type {\n",
       "        vertical-align: middle;\n",
       "    }\n",
       "\n",
       "    .dataframe tbody tr th {\n",
       "        vertical-align: top;\n",
       "    }\n",
       "\n",
       "    .dataframe thead th {\n",
       "        text-align: right;\n",
       "    }\n",
       "</style>\n",
       "<table border=\"1\" class=\"dataframe\">\n",
       "  <thead>\n",
       "    <tr style=\"text-align: right;\">\n",
       "      <th></th>\n",
       "      <th>Store</th>\n",
       "      <th>Dept</th>\n",
       "      <th>Weekly_Sales</th>\n",
       "      <th>IsHoliday</th>\n",
       "      <th>Temperature</th>\n",
       "      <th>Fuel_Price</th>\n",
       "      <th>MarkDown1</th>\n",
       "      <th>MarkDown2</th>\n",
       "      <th>MarkDown3</th>\n",
       "      <th>MarkDown4</th>\n",
       "      <th>MarkDown5</th>\n",
       "      <th>CPI</th>\n",
       "      <th>Unemployment</th>\n",
       "      <th>Size</th>\n",
       "      <th>Type_A</th>\n",
       "      <th>Type_B</th>\n",
       "      <th>Type_C</th>\n",
       "    </tr>\n",
       "  </thead>\n",
       "  <tbody>\n",
       "    <tr>\n",
       "      <th>count</th>\n",
       "      <td>421570.000000</td>\n",
       "      <td>421570.000000</td>\n",
       "      <td>421570.000000</td>\n",
       "      <td>421570.000000</td>\n",
       "      <td>421570.000000</td>\n",
       "      <td>421570.000000</td>\n",
       "      <td>421570.000000</td>\n",
       "      <td>421570.000000</td>\n",
       "      <td>421570.000000</td>\n",
       "      <td>421570.000000</td>\n",
       "      <td>421570.000000</td>\n",
       "      <td>421570.000000</td>\n",
       "      <td>421570.000000</td>\n",
       "      <td>421570.000000</td>\n",
       "      <td>421570.000000</td>\n",
       "      <td>421570.000000</td>\n",
       "      <td>421570.000000</td>\n",
       "    </tr>\n",
       "    <tr>\n",
       "      <th>mean</th>\n",
       "      <td>22.200546</td>\n",
       "      <td>44.260317</td>\n",
       "      <td>15981.258123</td>\n",
       "      <td>0.070358</td>\n",
       "      <td>59.935594</td>\n",
       "      <td>3.380391</td>\n",
       "      <td>1741.105906</td>\n",
       "      <td>836.721983</td>\n",
       "      <td>436.075567</td>\n",
       "      <td>714.599910</td>\n",
       "      <td>1077.072079</td>\n",
       "      <td>171.373307</td>\n",
       "      <td>7.940535</td>\n",
       "      <td>136727.915739</td>\n",
       "      <td>0.511132</td>\n",
       "      <td>0.387824</td>\n",
       "      <td>0.101044</td>\n",
       "    </tr>\n",
       "    <tr>\n",
       "      <th>std</th>\n",
       "      <td>12.785297</td>\n",
       "      <td>30.492054</td>\n",
       "      <td>22711.183519</td>\n",
       "      <td>0.255750</td>\n",
       "      <td>14.922062</td>\n",
       "      <td>0.367601</td>\n",
       "      <td>5233.469121</td>\n",
       "      <td>5062.933330</td>\n",
       "      <td>5501.323559</td>\n",
       "      <td>3498.770639</td>\n",
       "      <td>3291.952301</td>\n",
       "      <td>32.121367</td>\n",
       "      <td>1.523905</td>\n",
       "      <td>60980.583328</td>\n",
       "      <td>0.499877</td>\n",
       "      <td>0.487255</td>\n",
       "      <td>0.301387</td>\n",
       "    </tr>\n",
       "    <tr>\n",
       "      <th>min</th>\n",
       "      <td>1.000000</td>\n",
       "      <td>1.000000</td>\n",
       "      <td>-4988.940000</td>\n",
       "      <td>0.000000</td>\n",
       "      <td>5.540000</td>\n",
       "      <td>2.472000</td>\n",
       "      <td>0.000000</td>\n",
       "      <td>-265.760000</td>\n",
       "      <td>-1.000000</td>\n",
       "      <td>0.000000</td>\n",
       "      <td>0.000000</td>\n",
       "      <td>126.064000</td>\n",
       "      <td>3.879000</td>\n",
       "      <td>34875.000000</td>\n",
       "      <td>0.000000</td>\n",
       "      <td>0.000000</td>\n",
       "      <td>0.000000</td>\n",
       "    </tr>\n",
       "    <tr>\n",
       "      <th>25%</th>\n",
       "      <td>11.000000</td>\n",
       "      <td>18.000000</td>\n",
       "      <td>2079.650000</td>\n",
       "      <td>0.000000</td>\n",
       "      <td>54.200000</td>\n",
       "      <td>3.200000</td>\n",
       "      <td>0.000000</td>\n",
       "      <td>0.000000</td>\n",
       "      <td>0.000000</td>\n",
       "      <td>0.000000</td>\n",
       "      <td>0.000000</td>\n",
       "      <td>136.557015</td>\n",
       "      <td>7.368000</td>\n",
       "      <td>93638.000000</td>\n",
       "      <td>0.000000</td>\n",
       "      <td>0.000000</td>\n",
       "      <td>0.000000</td>\n",
       "    </tr>\n",
       "    <tr>\n",
       "      <th>50%</th>\n",
       "      <td>22.000000</td>\n",
       "      <td>37.000000</td>\n",
       "      <td>7612.030000</td>\n",
       "      <td>0.000000</td>\n",
       "      <td>59.935594</td>\n",
       "      <td>3.380391</td>\n",
       "      <td>0.000000</td>\n",
       "      <td>0.000000</td>\n",
       "      <td>0.000000</td>\n",
       "      <td>0.000000</td>\n",
       "      <td>0.000000</td>\n",
       "      <td>171.373307</td>\n",
       "      <td>7.940535</td>\n",
       "      <td>140167.000000</td>\n",
       "      <td>1.000000</td>\n",
       "      <td>0.000000</td>\n",
       "      <td>0.000000</td>\n",
       "    </tr>\n",
       "    <tr>\n",
       "      <th>75%</th>\n",
       "      <td>33.000000</td>\n",
       "      <td>74.000000</td>\n",
       "      <td>20205.852500</td>\n",
       "      <td>0.000000</td>\n",
       "      <td>68.270000</td>\n",
       "      <td>3.611000</td>\n",
       "      <td>82.230000</td>\n",
       "      <td>0.000000</td>\n",
       "      <td>0.000000</td>\n",
       "      <td>0.000000</td>\n",
       "      <td>597.940000</td>\n",
       "      <td>198.100106</td>\n",
       "      <td>8.200000</td>\n",
       "      <td>202505.000000</td>\n",
       "      <td>1.000000</td>\n",
       "      <td>1.000000</td>\n",
       "      <td>0.000000</td>\n",
       "    </tr>\n",
       "    <tr>\n",
       "      <th>max</th>\n",
       "      <td>45.000000</td>\n",
       "      <td>99.000000</td>\n",
       "      <td>693099.360000</td>\n",
       "      <td>1.000000</td>\n",
       "      <td>100.140000</td>\n",
       "      <td>4.449000</td>\n",
       "      <td>88646.760000</td>\n",
       "      <td>104519.540000</td>\n",
       "      <td>141630.610000</td>\n",
       "      <td>67474.850000</td>\n",
       "      <td>105223.110000</td>\n",
       "      <td>227.232807</td>\n",
       "      <td>14.313000</td>\n",
       "      <td>219622.000000</td>\n",
       "      <td>1.000000</td>\n",
       "      <td>1.000000</td>\n",
       "      <td>1.000000</td>\n",
       "    </tr>\n",
       "  </tbody>\n",
       "</table>\n",
       "</div>"
      ],
      "text/plain": [
       "               Store           Dept   Weekly_Sales      IsHoliday  \\\n",
       "count  421570.000000  421570.000000  421570.000000  421570.000000   \n",
       "mean       22.200546      44.260317   15981.258123       0.070358   \n",
       "std        12.785297      30.492054   22711.183519       0.255750   \n",
       "min         1.000000       1.000000   -4988.940000       0.000000   \n",
       "25%        11.000000      18.000000    2079.650000       0.000000   \n",
       "50%        22.000000      37.000000    7612.030000       0.000000   \n",
       "75%        33.000000      74.000000   20205.852500       0.000000   \n",
       "max        45.000000      99.000000  693099.360000       1.000000   \n",
       "\n",
       "         Temperature     Fuel_Price      MarkDown1      MarkDown2  \\\n",
       "count  421570.000000  421570.000000  421570.000000  421570.000000   \n",
       "mean       59.935594       3.380391    1741.105906     836.721983   \n",
       "std        14.922062       0.367601    5233.469121    5062.933330   \n",
       "min         5.540000       2.472000       0.000000    -265.760000   \n",
       "25%        54.200000       3.200000       0.000000       0.000000   \n",
       "50%        59.935594       3.380391       0.000000       0.000000   \n",
       "75%        68.270000       3.611000      82.230000       0.000000   \n",
       "max       100.140000       4.449000   88646.760000  104519.540000   \n",
       "\n",
       "           MarkDown3      MarkDown4      MarkDown5            CPI  \\\n",
       "count  421570.000000  421570.000000  421570.000000  421570.000000   \n",
       "mean      436.075567     714.599910    1077.072079     171.373307   \n",
       "std      5501.323559    3498.770639    3291.952301      32.121367   \n",
       "min        -1.000000       0.000000       0.000000     126.064000   \n",
       "25%         0.000000       0.000000       0.000000     136.557015   \n",
       "50%         0.000000       0.000000       0.000000     171.373307   \n",
       "75%         0.000000       0.000000     597.940000     198.100106   \n",
       "max    141630.610000   67474.850000  105223.110000     227.232807   \n",
       "\n",
       "        Unemployment           Size         Type_A         Type_B  \\\n",
       "count  421570.000000  421570.000000  421570.000000  421570.000000   \n",
       "mean        7.940535  136727.915739       0.511132       0.387824   \n",
       "std         1.523905   60980.583328       0.499877       0.487255   \n",
       "min         3.879000   34875.000000       0.000000       0.000000   \n",
       "25%         7.368000   93638.000000       0.000000       0.000000   \n",
       "50%         7.940535  140167.000000       1.000000       0.000000   \n",
       "75%         8.200000  202505.000000       1.000000       1.000000   \n",
       "max        14.313000  219622.000000       1.000000       1.000000   \n",
       "\n",
       "              Type_C  \n",
       "count  421570.000000  \n",
       "mean        0.101044  \n",
       "std         0.301387  \n",
       "min         0.000000  \n",
       "25%         0.000000  \n",
       "50%         0.000000  \n",
       "75%         0.000000  \n",
       "max         1.000000  "
      ]
     },
     "execution_count": 20,
     "metadata": {},
     "output_type": "execute_result"
    }
   ],
   "source": [
    "# Start with simple .describe() to get the general jist of the dataframe\n",
    "df_all_train.describe()"
   ]
  },
  {
   "cell_type": "code",
   "execution_count": 21,
   "metadata": {},
   "outputs": [
    {
     "data": {
      "image/png": "[encoded data removed]",
      "text/plain": [
       "<Figure size 1440x1080 with 9 Axes>"
      ]
     },
     "metadata": {},
     "output_type": "display_data"
    }
   ],
   "source": [
    "# Plots for the different features in the df: \n",
    "df_all_train[['Date', 'Temperature', 'Fuel_Price', 'CPI', 'Unemployment', 'MarkDown1', 'MarkDown2', 'MarkDown3', 'MarkDown4', 'MarkDown5']].plot(x='Date', subplots=True, figsize=(20,15))\n",
    "\n",
    "plt.show()"
   ]
  },
  {
   "cell_type": "markdown",
   "metadata": {},
   "source": [
    "### *General comments about the graphs*\n",
    "\n",
    "* **Discounts**: We have a few spikes, but not too many to make assumptions of the affects of it. It seems like the discounts are a more recent thing appearing in the end of 2011 with the exception of the potential test of 2011-02 where we find a small bump on all discount levels.\n",
    "* **Temperature**: it seems like it is decently seasonal, which sounds reasonable when we talk about temperature on a YoY basis. \n",
    "* **Fuel Price**: Seems to have a slight positive trend. \n",
    "* **Unemployment**: Seems to have a slight negative trend over this timeframe. "
   ]
  },
  {
   "cell_type": "markdown",
   "metadata": {},
   "source": [
    "____\n",
    "### Weekly sales plot"
   ]
  },
  {
   "cell_type": "code",
   "execution_count": 22,
   "metadata": {},
   "outputs": [
    {
     "data": {
      "text/plain": [
       "<function matplotlib.pyplot.show(*args, **kw)>"
      ]
     },
     "execution_count": 22,
     "metadata": {},
     "output_type": "execute_result"
    },
    {
     "data": {
      "image/png": "[encoded data removed]",
      "text/plain": [
       "<Figure size 1440x360 with 1 Axes>"
      ]
     },
     "metadata": {},
     "output_type": "display_data"
    }
   ],
   "source": [
    "# Average weekly sales for the stores/departments during a week\n",
    "df_average_sales_weekly = df_all_train.groupby(by=[\"Date\"], as_index = False)[\"Weekly_Sales\"].sum()\n",
    "\n",
    "df_average_sales = df_average_sales_weekly.sort_values(\"Weekly_Sales\", ascending=False)\n",
    "\n",
    "#print(df_average_sales[:10])\n",
    "\n",
    "plt.figure(figsize=(20,5))\n",
    "plt.plot(df_average_sales_weekly.Date, df_average_sales_weekly.Weekly_Sales)\n",
    "plt.show"
   ]
  },
  {
   "cell_type": "markdown",
   "metadata": {},
   "source": [
    "### *General comments about the graph* \n",
    "\n",
    "* **Seasonality - *High-Point***: It seems there are some seasonality to our data, where the end of December seems like a popular time to buy our company's specific products. Hy theory is that this has to do with the holidays and people buy gifts for each other, which seems reasonable. \n",
    "* **Seasonality - *Low-Point***: Around the end of january it seems to be a pretty steep dip in the different stores sales both during 2011 and 2012. "
   ]
  },
  {
   "cell_type": "markdown",
   "metadata": {},
   "source": [
    "#### Creating dummy variables for each month "
   ]
  },
  {
   "cell_type": "code",
   "execution_count": 23,
   "metadata": {},
   "outputs": [],
   "source": [
    "df_all_train[\"month\"] = df_all_train['Date'].dt.month\n",
    "df_all_train = df_all_train.drop([\"Date\"], axis=1)\n",
    "df_all_train = pd.get_dummies(df_all_train, columns=[\"month\"])#, prefix='month')\n",
    "#df_all_train = df_all_train.drop('Date', 1)\n",
    "\n",
    "df_all_test[\"month\"] = df_all_test['Date'].dt.month\n",
    "df_all_test = df_all_test.drop([\"Date\"], axis=1)\n",
    "df_all_test = pd.get_dummies(df_all_test, columns=[\"month\"])#, prefix='month')\n",
    "#df_all_test = df_all_test.drop('Date', 1)"
   ]
  },
  {
   "cell_type": "markdown",
   "metadata": {},
   "source": [
    "### Correlation heat map"
   ]
  },
  {
   "cell_type": "code",
   "execution_count": 24,
   "metadata": {},
   "outputs": [
    {
     "data": {
      "text/plain": [
       "<matplotlib.axes._subplots.AxesSubplot at 0x7fc415bf7f10>"
      ]
     },
     "execution_count": 24,
     "metadata": {},
     "output_type": "execute_result"
    },
    {
     "data": {
      "image/png": "[encoded data removed]",
      "text/plain": [
       "<Figure size 432x288 with 2 Axes>"
      ]
     },
     "metadata": {},
     "output_type": "display_data"
    }
   ],
   "source": [
    "# Correlation between all features\n",
    "sns.heatmap(df_all_train.corr())"
   ]
  },
  {
   "cell_type": "code",
   "execution_count": 25,
   "metadata": {},
   "outputs": [
    {
     "data": {
      "text/plain": [
       "Store          -0.085195\n",
       "Dept            0.148032\n",
       "IsHoliday       0.012774\n",
       "Temperature    -0.007239\n",
       "Fuel_Price     -0.003203\n",
       "MarkDown1       0.033815\n",
       "MarkDown2       0.022219\n",
       "MarkDown3       0.037148\n",
       "MarkDown4       0.024895\n",
       "MarkDown5       0.036331\n",
       "CPI            -0.016712\n",
       "Unemployment   -0.022921\n",
       "Size            0.243828\n",
       "Type_A          0.185417\n",
       "Type_B         -0.131219\n",
       "Type_C         -0.095388\n",
       "month_1        -0.019867\n",
       "month_2         0.000368\n",
       "month_3        -0.007876\n",
       "month_4        -0.004804\n",
       "month_5        -0.002728\n",
       "month_6         0.004789\n",
       "month_7        -0.001731\n",
       "month_8         0.001129\n",
       "month_9        -0.012330\n",
       "month_10       -0.010273\n",
       "month_11        0.016193\n",
       "month_12        0.040980\n",
       "Name: Weekly_Sales, dtype: float64"
      ]
     },
     "execution_count": 25,
     "metadata": {},
     "output_type": "execute_result"
    }
   ],
   "source": [
    "# Correlation between Weekly Sales and all other features\n",
    "df_all_train_corr = df_all_train[df_all_train.columns[:]].corr()['Weekly_Sales'][:]\n",
    "df_all_train_corr = df_all_train_corr.drop(\"Weekly_Sales\")\n",
    "df_all_train_corr"
   ]
  },
  {
   "cell_type": "code",
   "execution_count": 26,
   "metadata": {},
   "outputs": [
    {
     "data": {
      "text/plain": [
       "<matplotlib.axes._subplots.AxesSubplot at 0x7fc41b0b3450>"
      ]
     },
     "execution_count": 26,
     "metadata": {},
     "output_type": "execute_result"
    },
    {
     "data": {
      "image/png": "[encoded data removed]",
      "text/plain": [
       "<Figure size 432x288 with 1 Axes>"
      ]
     },
     "metadata": {},
     "output_type": "display_data"
    }
   ],
   "source": [
    "# Plot the correlation \n",
    "df_all_train_corr.plot.bar()"
   ]
  },
  {
   "cell_type": "markdown",
   "metadata": {},
   "source": [
    "### General comments about the graph\n",
    "The correlation table and graph indicate a few things: \n",
    "* **MarkDowns**: Not that significant in terms of weekly sales\n",
    "* **Size**: Highest correlation of all, telling us that having a larger store = more sales. Only thing to notice is that this could imply that having larger stores will automatically increase revenues, but it could be linked to the location and being situated where a lot of people are, and therefore it results in higher revenue. In short, we can apply the old saying \"Correlation is not causation\". But it will b\n",
    "* **Type**: Type_A seems to have a positive correlation with the \n",
    "* **Department**: Positive correlation with sales as well. "
   ]
  },
  {
   "cell_type": "markdown",
   "metadata": {},
   "source": [
    "_______\n",
    "# 3. Create Train & Test Data.\n",
    "\n",
    "**Making the data ready to use in our models.**\n",
    "\n",
    "![data](https://www.kaggle.com/static/images/host-home/host-home-research.png)"
   ]
  },
  {
   "cell_type": "code",
   "execution_count": 27,
   "metadata": {},
   "outputs": [],
   "source": [
    "# DF x & y\n",
    "train_all = df_all_train # make it shorter syntax\n",
    "\n",
    "train_X = df_all_train.drop([\"Weekly_Sales\", \"month_8\", \"month_9\", \"month_10\"], axis=1)\n",
    "train_y = train_all[\"Weekly_Sales\"]\n",
    "test_X = df_all_test # making the syntax shorter --> Sub = submission\n",
    "\n",
    "X_train, X_test, y_train, y_test = train_test_split(train_X, train_y, test_size=0.2, shuffle=False, stratify=None)"
   ]
  },
  {
   "cell_type": "markdown",
   "metadata": {},
   "source": [
    "#### Check so that the dfs looks alright."
   ]
  },
  {
   "cell_type": "code",
   "execution_count": 28,
   "metadata": {},
   "outputs": [
    {
     "data": {
      "text/html": [
       "<div>\n",
       "<style scoped>\n",
       "    .dataframe tbody tr th:only-of-type {\n",
       "        vertical-align: middle;\n",
       "    }\n",
       "\n",
       "    .dataframe tbody tr th {\n",
       "        vertical-align: top;\n",
       "    }\n",
       "\n",
       "    .dataframe thead th {\n",
       "        text-align: right;\n",
       "    }\n",
       "</style>\n",
       "<table border=\"1\" class=\"dataframe\">\n",
       "  <thead>\n",
       "    <tr style=\"text-align: right;\">\n",
       "      <th></th>\n",
       "      <th>Store</th>\n",
       "      <th>Dept</th>\n",
       "      <th>IsHoliday</th>\n",
       "      <th>Temperature</th>\n",
       "      <th>Fuel_Price</th>\n",
       "      <th>MarkDown1</th>\n",
       "      <th>MarkDown2</th>\n",
       "      <th>MarkDown3</th>\n",
       "      <th>MarkDown4</th>\n",
       "      <th>MarkDown5</th>\n",
       "      <th>...</th>\n",
       "      <th>Type_C</th>\n",
       "      <th>month_1</th>\n",
       "      <th>month_2</th>\n",
       "      <th>month_3</th>\n",
       "      <th>month_4</th>\n",
       "      <th>month_5</th>\n",
       "      <th>month_6</th>\n",
       "      <th>month_7</th>\n",
       "      <th>month_11</th>\n",
       "      <th>month_12</th>\n",
       "    </tr>\n",
       "  </thead>\n",
       "  <tbody>\n",
       "    <tr>\n",
       "      <th>0</th>\n",
       "      <td>1</td>\n",
       "      <td>1</td>\n",
       "      <td>0</td>\n",
       "      <td>59.935594</td>\n",
       "      <td>3.380391</td>\n",
       "      <td>0.0</td>\n",
       "      <td>0.0</td>\n",
       "      <td>0.0</td>\n",
       "      <td>0.0</td>\n",
       "      <td>0.0</td>\n",
       "      <td>...</td>\n",
       "      <td>0</td>\n",
       "      <td>0</td>\n",
       "      <td>1</td>\n",
       "      <td>0</td>\n",
       "      <td>0</td>\n",
       "      <td>0</td>\n",
       "      <td>0</td>\n",
       "      <td>0</td>\n",
       "      <td>0</td>\n",
       "      <td>0</td>\n",
       "    </tr>\n",
       "    <tr>\n",
       "      <th>1</th>\n",
       "      <td>1</td>\n",
       "      <td>1</td>\n",
       "      <td>1</td>\n",
       "      <td>59.935594</td>\n",
       "      <td>3.380391</td>\n",
       "      <td>0.0</td>\n",
       "      <td>0.0</td>\n",
       "      <td>0.0</td>\n",
       "      <td>0.0</td>\n",
       "      <td>0.0</td>\n",
       "      <td>...</td>\n",
       "      <td>0</td>\n",
       "      <td>0</td>\n",
       "      <td>1</td>\n",
       "      <td>0</td>\n",
       "      <td>0</td>\n",
       "      <td>0</td>\n",
       "      <td>0</td>\n",
       "      <td>0</td>\n",
       "      <td>0</td>\n",
       "      <td>0</td>\n",
       "    </tr>\n",
       "    <tr>\n",
       "      <th>2</th>\n",
       "      <td>1</td>\n",
       "      <td>1</td>\n",
       "      <td>0</td>\n",
       "      <td>39.930000</td>\n",
       "      <td>2.514000</td>\n",
       "      <td>0.0</td>\n",
       "      <td>0.0</td>\n",
       "      <td>0.0</td>\n",
       "      <td>0.0</td>\n",
       "      <td>0.0</td>\n",
       "      <td>...</td>\n",
       "      <td>0</td>\n",
       "      <td>0</td>\n",
       "      <td>1</td>\n",
       "      <td>0</td>\n",
       "      <td>0</td>\n",
       "      <td>0</td>\n",
       "      <td>0</td>\n",
       "      <td>0</td>\n",
       "      <td>0</td>\n",
       "      <td>0</td>\n",
       "    </tr>\n",
       "  </tbody>\n",
       "</table>\n",
       "<p>3 rows × 25 columns</p>\n",
       "</div>"
      ],
      "text/plain": [
       "   Store  Dept  IsHoliday  Temperature  Fuel_Price  MarkDown1  MarkDown2  \\\n",
       "0      1     1          0    59.935594    3.380391        0.0        0.0   \n",
       "1      1     1          1    59.935594    3.380391        0.0        0.0   \n",
       "2      1     1          0    39.930000    2.514000        0.0        0.0   \n",
       "\n",
       "   MarkDown3  MarkDown4  MarkDown5  ...  Type_C  month_1  month_2  month_3  \\\n",
       "0        0.0        0.0        0.0  ...       0        0        1        0   \n",
       "1        0.0        0.0        0.0  ...       0        0        1        0   \n",
       "2        0.0        0.0        0.0  ...       0        0        1        0   \n",
       "\n",
       "   month_4  month_5  month_6  month_7  month_11  month_12  \n",
       "0        0        0        0        0         0         0  \n",
       "1        0        0        0        0         0         0  \n",
       "2        0        0        0        0         0         0  \n",
       "\n",
       "[3 rows x 25 columns]"
      ]
     },
     "execution_count": 28,
     "metadata": {},
     "output_type": "execute_result"
    }
   ],
   "source": [
    "#X_train.shape\n",
    "#X_test.shape\n",
    "\n",
    "X_train.head(3)\n",
    "#y_train.head(3)\n",
    "\n",
    "#X_test.head(3)\n",
    "#y_test.head(3)\n",
    "\n",
    "#test_X.head(3)"
   ]
  },
  {
   "cell_type": "markdown",
   "metadata": {},
   "source": [
    "_______\n",
    "# 4. Benchmark\n",
    "\n",
    "**How will we benchmark our results?**\n",
    "\n",
    "![ML](https://www.kaggle.com/static/images/about/inclass/howitworks@2x.png)\n",
    "\n",
    "* The initial benchmarking will be made by looking at three different metrics used for estimating errors, as well as one statistical measure that represents the proportion of the variance for a dependent variable that's explained by an independent variable or variables in a regression model. These are: \n",
    "\n",
    "**Error Metrics:**\n",
    "1. Mean Absolute Error (MAE)\n",
    "2. Mean Sqared Error (MSE)\n",
    "3. Root Mean Squared Error (RMSE)\n",
    "\n",
    "**Model Valuation Metric *(robustness of the model):***\n",
    "1. R-squared (R^2)\n",
    "\n",
    "\n",
    "* On the kaggle competition we have 688 submissions. Our benchmark will be the 50%th percentile score. Currently it's held by the user \"Hari Khanal\", with the score of **3985.79966**. \n",
    "* The lower the score, the better the prediction.\n",
    "* The goal is to provide a better result than Frankin's model, which in turn would make our model *better than average*. \n",
    "\n",
    "You'll find the link to the scoreboard [here](https://www.kaggle.com/c/walmart-recruiting-store-sales-forecasting/leaderboard). "
   ]
  },
  {
   "cell_type": "markdown",
   "metadata": {},
   "source": [
    "______\n",
    "# 5. Modeling\n",
    "\n",
    "***Finding the best model.***\n",
    "\n",
    "![ML](https://www.kth.se/polopoly_fs/1.862339.1554801965!/image/startpuff-avdelning_matematisk%20statistik.jpg)\n",
    "\n",
    "\n",
    "#### We will limit this test to 8 different models:\n",
    "\n",
    "1. Linear Regression (Linear model)\n",
    "2. KNeighborsRegressor (KNN) (neighbors model)\n",
    "3. Decision Tree Regressor (Tree model)\n",
    "4. Random Forest Regressor (Enemble model)\n",
    "5. Extra Trees Regressor (Ensemble model)\n",
    "6. XGBoost (gradient boosted decision trees)\n",
    "7. Ridge (Linear model)\n",
    "8. Lasso (Linear model)\n",
    "\n",
    "\n",
    "*We will start by creating train, test and final datasets.*"
   ]
  },
  {
   "cell_type": "markdown",
   "metadata": {},
   "source": [
    "\n",
    "\n",
    "_____\n",
    "## Linear Regression"
   ]
  },
  {
   "cell_type": "code",
   "execution_count": 29,
   "metadata": {},
   "outputs": [],
   "source": [
    "reg = LinearRegression()\n",
    "reg.fit(X_train, y_train)\n",
    "y_pred = reg.predict(X_test)"
   ]
  },
  {
   "cell_type": "code",
   "execution_count": 34,
   "metadata": {},
   "outputs": [
    {
     "name": "stdout",
     "output_type": "stream",
     "text": [
      "MAE:  11791.51373494347\n",
      "MSE:  338619797.9313162\n",
      "RMSE:  18401.624872040953\n",
      "R^2: 0.06504501127637086\n"
     ]
    }
   ],
   "source": [
    "# Print out the MAE, MSE & RMSE\n",
    "print(\"MAE: \", metrics.mean_absolute_error(y_test, y_pred)) #MAE\n",
    "print(\"MSE: \", metrics.mean_squared_error(y_test, y_pred)) #MSE\n",
    "print(\"RMSE: \", np.sqrt(metrics.mean_squared_error(y_test, y_pred))) #RMSE\n",
    "\n",
    "# rSquared\n",
    "score = r2_score(y_test, y_pred)\n",
    "print(\"R^2:\", score)"
   ]
  },
  {
   "cell_type": "markdown",
   "metadata": {},
   "source": [
    "_______\n",
    "## KNN Regressor "
   ]
  },
  {
   "cell_type": "code",
   "execution_count": 35,
   "metadata": {},
   "outputs": [],
   "source": [
    "knn = KNeighborsRegressor(n_neighbors=5)\n",
    "knn.fit(X_train, y_train)\n",
    "y_pred = knn.predict(X_test)"
   ]
  },
  {
   "cell_type": "code",
   "execution_count": 36,
   "metadata": {},
   "outputs": [
    {
     "name": "stdout",
     "output_type": "stream",
     "text": [
      "MAE:  7834.987650520672\n",
      "MSE:  221841899.43485868\n",
      "RMSE:  14894.357973234653\n",
      "R^2: 0.3874776612245894\n"
     ]
    }
   ],
   "source": [
    "from sklearn import metrics\n",
    "\n",
    "# Print out the MAE, MSE & RMSE\n",
    "print(\"MAE: \", metrics.mean_absolute_error(y_test, y_pred)) #MAE\n",
    "print(\"MSE: \", metrics.mean_squared_error(y_test, y_pred)) #MSE\n",
    "print(\"RMSE: \", np.sqrt(metrics.mean_squared_error(y_test, y_pred))) #RMSE\n",
    "\n",
    "# rSquared\n",
    "score = r2_score(y_test, y_pred)\n",
    "print(\"R^2:\", score)"
   ]
  },
  {
   "cell_type": "markdown",
   "metadata": {},
   "source": [
    "_______\n",
    "## Decision Tree Regressor"
   ]
  },
  {
   "cell_type": "code",
   "execution_count": 37,
   "metadata": {},
   "outputs": [],
   "source": [
    "dt = DecisionTreeRegressor()\n",
    "dt.fit(X_train, y_train)\n",
    "y_pred = dt.predict(X_test)"
   ]
  },
  {
   "cell_type": "code",
   "execution_count": 38,
   "metadata": {},
   "outputs": [
    {
     "name": "stdout",
     "output_type": "stream",
     "text": [
      "MAE:  4745.773349451533\n",
      "MSE:  96431498.96198909\n",
      "RMSE:  9819.954122193703\n",
      "R^2: 0.7337453049839202\n"
     ]
    }
   ],
   "source": [
    "# Print out the MAE, MSE & RMSE\n",
    "print(\"MAE: \", metrics.mean_absolute_error(y_test, y_pred)) #MAE\n",
    "print(\"MSE: \", metrics.mean_squared_error(y_test, y_pred)) #MSE\n",
    "print(\"RMSE: \", np.sqrt(metrics.mean_squared_error(y_test, y_pred))) #RMSE\n",
    "\n",
    "# rSquared\n",
    "score = r2_score(y_test, y_pred)\n",
    "print(\"R^2:\", score)"
   ]
  },
  {
   "cell_type": "markdown",
   "metadata": {},
   "source": [
    "_____\n",
    "## Random Forest Regressor"
   ]
  },
  {
   "cell_type": "code",
   "execution_count": 39,
   "metadata": {},
   "outputs": [],
   "source": [
    "rf = RandomForestRegressor(n_estimators=100)\n",
    "rf.fit(X_train, y_train)\n",
    "y_pred = rf.predict(X_test)"
   ]
  },
  {
   "cell_type": "code",
   "execution_count": 40,
   "metadata": {},
   "outputs": [
    {
     "name": "stdout",
     "output_type": "stream",
     "text": [
      "MAE:  4267.170097112522\n",
      "MSE:  80946568.05601971\n",
      "RMSE:  8997.031068970458\n",
      "R^2: 0.7765003756827497\n"
     ]
    }
   ],
   "source": [
    "# Print out the MAE, MSE & RMSE\n",
    "print(\"MAE: \", metrics.mean_absolute_error(y_test, y_pred)) #MAE\n",
    "print(\"MSE: \", metrics.mean_squared_error(y_test, y_pred)) #MSE\n",
    "print(\"RMSE: \", np.sqrt(metrics.mean_squared_error(y_test, y_pred))) #RMSE\n",
    "\n",
    "# rSquared\n",
    "score = r2_score(y_test, y_pred)\n",
    "print(\"R^2:\", score)"
   ]
  },
  {
   "cell_type": "markdown",
   "metadata": {},
   "source": [
    "_____\n",
    "\n",
    "## Extra Trees Regressor"
   ]
  },
  {
   "cell_type": "code",
   "execution_count": 41,
   "metadata": {},
   "outputs": [
    {
     "data": {
      "text/plain": [
       "ExtraTreesRegressor(min_samples_leaf=2, min_samples_split=5, n_jobs=30)"
      ]
     },
     "execution_count": 41,
     "metadata": {},
     "output_type": "execute_result"
    }
   ],
   "source": [
    "etr_random_best = ExtraTreesRegressor(bootstrap=False, criterion=\"mse\", max_depth=None,\n",
    "                                      max_features=\"auto\", max_leaf_nodes=None,\n",
    "                                      min_impurity_decrease=0.0, min_impurity_split=None,\n",
    "                                      min_samples_leaf=2, min_samples_split=5,\n",
    "                                      min_weight_fraction_leaf=0.0, n_estimators=100, n_jobs=30,\n",
    "                                      oob_score=False, random_state=None, warm_start=False)\n",
    "etr_random_best.fit(X_train, y_train)"
   ]
  },
  {
   "cell_type": "code",
   "execution_count": 42,
   "metadata": {},
   "outputs": [],
   "source": [
    "y_pred = etr_random_best.predict(X_test)"
   ]
  },
  {
   "cell_type": "code",
   "execution_count": 43,
   "metadata": {},
   "outputs": [
    {
     "name": "stdout",
     "output_type": "stream",
     "text": [
      "MAE:  3535.2593445429543\n",
      "MSE:  54359852.62139243\n",
      "RMSE:  7372.913441875771\n",
      "R^2: 0.8499083169231559\n"
     ]
    }
   ],
   "source": [
    "# Print out the MAE, MSE & RMSE\n",
    "print(\"MAE: \", metrics.mean_absolute_error(y_test, y_pred)) #MAE\n",
    "print(\"MSE: \", metrics.mean_squared_error(y_test, y_pred)) #MSE\n",
    "print(\"RMSE: \", np.sqrt(metrics.mean_squared_error(y_test, y_pred))) #RMSE\n",
    "\n",
    "# rSquared\n",
    "score = r2_score(y_test, y_pred)\n",
    "print(\"R^2:\", score)"
   ]
  },
  {
   "cell_type": "markdown",
   "metadata": {},
   "source": [
    "______\n",
    "## XGBoost"
   ]
  },
  {
   "cell_type": "code",
   "execution_count": 44,
   "metadata": {},
   "outputs": [],
   "source": [
    "xg = XGBRegressor()\n",
    "xg.fit(X_train, y_train)\n",
    "y_pred = xg.predict(X_test)"
   ]
  },
  {
   "cell_type": "code",
   "execution_count": 45,
   "metadata": {},
   "outputs": [
    {
     "name": "stdout",
     "output_type": "stream",
     "text": [
      "MAE:  5606.465877917924\n",
      "MSE:  87613186.09610133\n",
      "RMSE:  9360.191563002401\n",
      "R^2: 0.7580933367778552\n"
     ]
    }
   ],
   "source": [
    "# Print out the MAE, MSE & RMSE\n",
    "print(\"MAE: \", metrics.mean_absolute_error(y_test, y_pred)) #MAE\n",
    "print(\"MSE: \", metrics.mean_squared_error(y_test, y_pred)) #MSE\n",
    "print(\"RMSE: \", np.sqrt(metrics.mean_squared_error(y_test, y_pred))) #RMSE\n",
    "\n",
    "# rSquared\n",
    "score = r2_score(y_test, y_pred)\n",
    "print(\"R^2:\", score)"
   ]
  },
  {
   "cell_type": "markdown",
   "metadata": {},
   "source": [
    "________\n",
    "## Ridge"
   ]
  },
  {
   "cell_type": "code",
   "execution_count": 46,
   "metadata": {},
   "outputs": [],
   "source": [
    "rid = Ridge()\n",
    "rid.fit(X_train, y_train)\n",
    "y_pred = rid.predict(X_test)"
   ]
  },
  {
   "cell_type": "code",
   "execution_count": 47,
   "metadata": {},
   "outputs": [
    {
     "name": "stdout",
     "output_type": "stream",
     "text": [
      "MAE:  11791.422227827257\n",
      "MSE:  338620263.35266346\n",
      "RMSE:  18401.637518239062\n",
      "R^2: 0.06504372621267074\n"
     ]
    }
   ],
   "source": [
    "# Print out the MAE, MSE & RMSE\n",
    "print(\"MAE: \", metrics.mean_absolute_error(y_test, y_pred)) #MAE\n",
    "print(\"MSE: \", metrics.mean_squared_error(y_test, y_pred)) #MSE\n",
    "print(\"RMSE: \", np.sqrt(metrics.mean_squared_error(y_test, y_pred))) #RMSE\n",
    "\n",
    "# rSquared\n",
    "score = r2_score(y_test, y_pred)\n",
    "print(\"R^2:\", score)"
   ]
  },
  {
   "cell_type": "markdown",
   "metadata": {},
   "source": [
    "________\n",
    "## Lasso"
   ]
  },
  {
   "cell_type": "code",
   "execution_count": 48,
   "metadata": {},
   "outputs": [],
   "source": [
    "las = Lasso()\n",
    "las.fit(X_train, y_train)\n",
    "y_pred = las.predict(X_test)"
   ]
  },
  {
   "cell_type": "code",
   "execution_count": 49,
   "metadata": {},
   "outputs": [
    {
     "name": "stdout",
     "output_type": "stream",
     "text": [
      "MAE:  11784.147085101193\n",
      "MSE:  338648906.30724734\n",
      "RMSE:  18402.41577367622\n",
      "R^2: 0.06496464083891662\n"
     ]
    }
   ],
   "source": [
    "# Print out the MAE, MSE & RMSE\n",
    "print(\"MAE: \", metrics.mean_absolute_error(y_test, y_pred)) #MAE\n",
    "print(\"MSE: \", metrics.mean_squared_error(y_test, y_pred)) #MSE\n",
    "print(\"RMSE: \", np.sqrt(metrics.mean_squared_error(y_test, y_pred))) #RMSE\n",
    "\n",
    "# rSquared\n",
    "score = r2_score(y_test, y_pred)\n",
    "print(\"R^2:\", score)"
   ]
  },
  {
   "cell_type": "markdown",
   "metadata": {},
   "source": [
    "________"
   ]
  },
  {
   "cell_type": "markdown",
   "metadata": {},
   "source": [
    "# 6. Summarising Results & Optimal Model\n",
    "\n",
    "**The #1 model.**\n",
    "\n",
    "![Model](https://png.pngtree.com/template/20190214/ourlarge/pngtree-aquare-letter-d-and-number-one-logo-vector-image_55711.jpg)"
   ]
  },
  {
   "cell_type": "markdown",
   "metadata": {},
   "source": [
    "### ACCUARY \n",
    "#### Best performer \n",
    "\n",
    "* Extra Trees Regressor\n",
    "    * MAE:  3576.95\n",
    "    * MSE:  54517368.39\n",
    "    * RMSE:  7383.58\n",
    "\n",
    "#### Worst performer\n",
    "\n",
    "* Ridge Regressor\n",
    "    * MAE:  11791.42\n",
    "    * MSE:  338620263.35\n",
    "    * RMSE:  18401.64\n",
    "___\n",
    "### MODEL ROBUSTNESS \n",
    "#### Best performer \n",
    "\n",
    "* Extra Trees Regressor\n",
    "    * R^2 = 0.85\n",
    "\n",
    "#### Worst performer\n",
    "\n",
    "* Linear Regression\n",
    "    * R^2 = 0.06\n",
    "___\n",
    "\n",
    "## AND THE OVERALL WINNER IS...\n",
    "\n",
    "![drumroll](data:image/jpeg;base64,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)\n",
    "\n",
    "# --> Extra Trees Regressor! <---"
   ]
  },
  {
   "cell_type": "markdown",
   "metadata": {},
   "source": [
    "______\n",
    "### Final comments about the models\n",
    "\n",
    "* **Linear models:** We find that the three linear models were not close to assist in the predictions with a R^2 score of less than 0.1.\n",
    "\n",
    "_______"
   ]
  },
  {
   "cell_type": "markdown",
   "metadata": {},
   "source": [
    "# 7. Submission Score & Comparison to Benchmark\n",
    "\n",
    "***The final stop.***\n",
    "\n",
    "![put](https://miro.medium.com/max/1200/1*joDRjoQDx4nJ4R8R5YkfoA.jpeg)"
   ]
  },
  {
   "cell_type": "markdown",
   "metadata": {},
   "source": [
    "### Print the predictions for the final submission"
   ]
  },
  {
   "cell_type": "code",
   "execution_count": 50,
   "metadata": {},
   "outputs": [],
   "source": [
    "y_pred = etr_random_best.predict(test_X) # Un-test data for the final submission"
   ]
  },
  {
   "cell_type": "code",
   "execution_count": 89,
   "metadata": {},
   "outputs": [],
   "source": [
    "#pred = pd.DataFrame(y_pred.astype(str))\n",
    "pred[\"Weekly_Sales\"] = pd.DataFrame(y_pred.astype(str))"
   ]
  },
  {
   "cell_type": "code",
   "execution_count": 90,
   "metadata": {},
   "outputs": [
    {
     "data": {
      "text/html": [
       "<div>\n",
       "<style scoped>\n",
       "    .dataframe tbody tr th:only-of-type {\n",
       "        vertical-align: middle;\n",
       "    }\n",
       "\n",
       "    .dataframe tbody tr th {\n",
       "        vertical-align: top;\n",
       "    }\n",
       "\n",
       "    .dataframe thead th {\n",
       "        text-align: right;\n",
       "    }\n",
       "</style>\n",
       "<table border=\"1\" class=\"dataframe\">\n",
       "  <thead>\n",
       "    <tr style=\"text-align: right;\">\n",
       "      <th></th>\n",
       "      <th>0</th>\n",
       "      <th>Weekly_Sales</th>\n",
       "    </tr>\n",
       "  </thead>\n",
       "  <tbody>\n",
       "    <tr>\n",
       "      <th>0</th>\n",
       "      <td>26936.498792</td>\n",
       "      <td>26936.49879166668</td>\n",
       "    </tr>\n",
       "    <tr>\n",
       "      <th>1</th>\n",
       "      <td>26936.498792</td>\n",
       "      <td>26936.49879166668</td>\n",
       "    </tr>\n",
       "    <tr>\n",
       "      <th>2</th>\n",
       "      <td>18957.293050</td>\n",
       "      <td>18957.293050000022</td>\n",
       "    </tr>\n",
       "  </tbody>\n",
       "</table>\n",
       "</div>"
      ],
      "text/plain": [
       "              0        Weekly_Sales\n",
       "0  26936.498792   26936.49879166668\n",
       "1  26936.498792   26936.49879166668\n",
       "2  18957.293050  18957.293050000022"
      ]
     },
     "execution_count": 90,
     "metadata": {},
     "output_type": "execute_result"
    }
   ],
   "source": [
    "pred.head(3)"
   ]
  },
  {
   "cell_type": "code",
   "execution_count": 91,
   "metadata": {},
   "outputs": [
    {
     "data": {
      "text/html": [
       "<div>\n",
       "<style scoped>\n",
       "    .dataframe tbody tr th:only-of-type {\n",
       "        vertical-align: middle;\n",
       "    }\n",
       "\n",
       "    .dataframe tbody tr th {\n",
       "        vertical-align: top;\n",
       "    }\n",
       "\n",
       "    .dataframe thead th {\n",
       "        text-align: right;\n",
       "    }\n",
       "</style>\n",
       "<table border=\"1\" class=\"dataframe\">\n",
       "  <thead>\n",
       "    <tr style=\"text-align: right;\">\n",
       "      <th></th>\n",
       "      <th>Store</th>\n",
       "      <th>Dept</th>\n",
       "      <th>Date</th>\n",
       "    </tr>\n",
       "  </thead>\n",
       "  <tbody>\n",
       "    <tr>\n",
       "      <th>0</th>\n",
       "      <td>1</td>\n",
       "      <td>1</td>\n",
       "      <td>2012-11-02</td>\n",
       "    </tr>\n",
       "    <tr>\n",
       "      <th>1</th>\n",
       "      <td>1</td>\n",
       "      <td>1</td>\n",
       "      <td>2012-11-09</td>\n",
       "    </tr>\n",
       "    <tr>\n",
       "      <th>2</th>\n",
       "      <td>1</td>\n",
       "      <td>1</td>\n",
       "      <td>2012-11-16</td>\n",
       "    </tr>\n",
       "  </tbody>\n",
       "</table>\n",
       "</div>"
      ],
      "text/plain": [
       "   Store  Dept       Date\n",
       "0      1     1 2012-11-02\n",
       "1      1     1 2012-11-09\n",
       "2      1     1 2012-11-16"
      ]
     },
     "execution_count": 91,
     "metadata": {},
     "output_type": "execute_result"
    }
   ],
   "source": [
    "Id = pd.DataFrame(df_test[[\"Store\", \"Dept\",\"Date\"]])\n",
    "Id.head(3)"
   ]
  },
  {
   "cell_type": "code",
   "execution_count": 92,
   "metadata": {},
   "outputs": [
    {
     "data": {
      "text/html": [
       "<div>\n",
       "<style scoped>\n",
       "    .dataframe tbody tr th:only-of-type {\n",
       "        vertical-align: middle;\n",
       "    }\n",
       "\n",
       "    .dataframe tbody tr th {\n",
       "        vertical-align: top;\n",
       "    }\n",
       "\n",
       "    .dataframe thead th {\n",
       "        text-align: right;\n",
       "    }\n",
       "</style>\n",
       "<table border=\"1\" class=\"dataframe\">\n",
       "  <thead>\n",
       "    <tr style=\"text-align: right;\">\n",
       "      <th></th>\n",
       "      <th>Store</th>\n",
       "      <th>Dept</th>\n",
       "      <th>Date</th>\n",
       "      <th>Id</th>\n",
       "    </tr>\n",
       "  </thead>\n",
       "  <tbody>\n",
       "    <tr>\n",
       "      <th>0</th>\n",
       "      <td>1</td>\n",
       "      <td>1</td>\n",
       "      <td>2012-11-02</td>\n",
       "      <td>1_1_2012-11-02</td>\n",
       "    </tr>\n",
       "    <tr>\n",
       "      <th>1</th>\n",
       "      <td>1</td>\n",
       "      <td>1</td>\n",
       "      <td>2012-11-09</td>\n",
       "      <td>1_1_2012-11-09</td>\n",
       "    </tr>\n",
       "    <tr>\n",
       "      <th>2</th>\n",
       "      <td>1</td>\n",
       "      <td>1</td>\n",
       "      <td>2012-11-16</td>\n",
       "      <td>1_1_2012-11-16</td>\n",
       "    </tr>\n",
       "  </tbody>\n",
       "</table>\n",
       "</div>"
      ],
      "text/plain": [
       "   Store  Dept       Date              Id\n",
       "0      1     1 2012-11-02  1_1_2012-11-02\n",
       "1      1     1 2012-11-09  1_1_2012-11-09\n",
       "2      1     1 2012-11-16  1_1_2012-11-16"
      ]
     },
     "execution_count": 92,
     "metadata": {},
     "output_type": "execute_result"
    }
   ],
   "source": [
    "Id[\"Id\"] = Id[\"Store\"].astype(str) + \"_\" + Id[\"Dept\"].astype(str) + \"_\" + Id[\"Date\"].astype(str)\n",
    "Id.head(3)"
   ]
  },
  {
   "cell_type": "code",
   "execution_count": 93,
   "metadata": {},
   "outputs": [
    {
     "data": {
      "text/html": [
       "<div>\n",
       "<style scoped>\n",
       "    .dataframe tbody tr th:only-of-type {\n",
       "        vertical-align: middle;\n",
       "    }\n",
       "\n",
       "    .dataframe tbody tr th {\n",
       "        vertical-align: top;\n",
       "    }\n",
       "\n",
       "    .dataframe thead th {\n",
       "        text-align: right;\n",
       "    }\n",
       "</style>\n",
       "<table border=\"1\" class=\"dataframe\">\n",
       "  <thead>\n",
       "    <tr style=\"text-align: right;\">\n",
       "      <th></th>\n",
       "      <th>Id</th>\n",
       "    </tr>\n",
       "  </thead>\n",
       "  <tbody>\n",
       "    <tr>\n",
       "      <th>0</th>\n",
       "      <td>1_1_2012-11-02</td>\n",
       "    </tr>\n",
       "    <tr>\n",
       "      <th>1</th>\n",
       "      <td>1_1_2012-11-09</td>\n",
       "    </tr>\n",
       "    <tr>\n",
       "      <th>2</th>\n",
       "      <td>1_1_2012-11-16</td>\n",
       "    </tr>\n",
       "  </tbody>\n",
       "</table>\n",
       "</div>"
      ],
      "text/plain": [
       "               Id\n",
       "0  1_1_2012-11-02\n",
       "1  1_1_2012-11-09\n",
       "2  1_1_2012-11-16"
      ]
     },
     "execution_count": 93,
     "metadata": {},
     "output_type": "execute_result"
    }
   ],
   "source": [
    "Id = pd.DataFrame(Id[\"Id\"])\n",
    "Id.head(3)"
   ]
  },
  {
   "cell_type": "code",
   "execution_count": 98,
   "metadata": {},
   "outputs": [],
   "source": [
    "#submission = pd.DataFrame(Id[\"Id\"]) + pd.DataFrame(pred[\"Weekly_Sales\"])\n",
    "#submission = pd.concat([Id[\"Id\"], pred[\"Weekly_Sales\"]])\n",
    "#submission pd.DataFrame({'date':df.date,'Anomaly':tmp.Anomaly.combine_first(df.Anomaly)}\n",
    "#submission = pd.DataFrame({})\n",
    "submission = pd.concat([Id,pred[\"Weekly_Sales\"]], axis = 1)"
   ]
  },
  {
   "cell_type": "code",
   "execution_count": 101,
   "metadata": {},
   "outputs": [
    {
     "data": {
      "text/plain": [
       "(115064, 2)"
      ]
     },
     "execution_count": 101,
     "metadata": {},
     "output_type": "execute_result"
    }
   ],
   "source": [
    "#submission.head(3)\n",
    "submission.shape # Needs to be 115064 predicitons according to the competition"
   ]
  },
  {
   "cell_type": "markdown",
   "metadata": {},
   "source": [
    "### Create CSV"
   ]
  },
  {
   "cell_type": "code",
   "execution_count": 100,
   "metadata": {},
   "outputs": [],
   "source": [
    "submission.to_csv(\"Weekly_Sales_Prediction.csv\", index=False)"
   ]
  },
  {
   "cell_type": "markdown",
   "metadata": {},
   "source": [
    "_____\n",
    "# Results Score from Kaggle\n",
    "\n",
    "* We get a score of ***3883.47399*** which puts us in a better spot than our benchmark: Hari Khanal\", with the score of ***3985.79966.*** \n",
    "\n",
    "\n",
    "![kaggle](kaggle_score.png)\n",
    "\n",
    "## *WE DID IT!*"
   ]
  },
  {
   "cell_type": "markdown",
   "metadata": {},
   "source": [
    "## Final thoughts\n",
    "\n",
    "* This project was incredibly fun and spending over 60 hours on it was woithout a doubt definitely worth it. \n",
    "\n",
    "![celebrate](https://www.pblworks.org/sites/default/files/inline-images/celebration.jpg)"
   ]
  },
  {
   "cell_type": "code",
   "execution_count": null,
   "metadata": {},
   "outputs": [],
   "source": []
  }
 ],
 "metadata": {
  "kernelspec": {
   "display_name": "Python 3",
   "language": "python",
   "name": "python3"
  },
  "language_info": {
   "codemirror_mode": {
    "name": "ipython",
    "version": 3
   },
   "file_extension": ".py",
   "mimetype": "text/x-python",
   "name": "python",
   "nbconvert_exporter": "python",
   "pygments_lexer": "ipython3",
   "version": "3.7.7"
  }
 },
 "nbformat": 4,
 "nbformat_minor": 4
}
